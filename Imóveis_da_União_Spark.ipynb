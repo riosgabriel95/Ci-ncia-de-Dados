{
  "nbformat": 4,
  "nbformat_minor": 0,
  "metadata": {
    "colab": {
      "provenance": []
    },
    "kernelspec": {
      "name": "python3",
      "display_name": "Python 3"
    },
    "language_info": {
      "name": "python"
    }
  },
  "cells": [
    {
      "cell_type": "markdown",
      "source": [
        "Trabalho Big Data\n",
        "\n",
        "Gabriel Rios de Carvalho - Matrícula 2014000031\n",
        "\n",
        "Professor: Paulo Alves Braz​\n",
        "\n",
        "Trabalho realizado utilizando o PySpark para consultas SQL.\n",
        "\n",
        "Base de dados disponível em: https://dados.gov.br/dados/conjuntos-dados/imoveis-da-uniao"
      ],
      "metadata": {
        "id": "R5rBpyUYG6Ir"
      }
    },
    {
      "cell_type": "markdown",
      "source": [
        "# Instalação do Pyspark"
      ],
      "metadata": {
        "id": "5-_yevj1o-RR"
      }
    },
    {
      "cell_type": "code",
      "execution_count": null,
      "metadata": {
        "id": "LQPrlbXXo2Zz"
      },
      "outputs": [],
      "source": [
        "pip install pyspark"
      ]
    },
    {
      "cell_type": "markdown",
      "source": [
        "# Configuração de sessão do Pyspark e importação da base de dados"
      ],
      "metadata": {
        "id": "W0CGPBOoptxk"
      }
    },
    {
      "cell_type": "code",
      "source": [
        "from pyspark.sql import SparkSession\n",
        "import pandas as pd\n",
        "\n",
        "#criar sessão spark\n",
        "spark = SparkSession.builder.master('local[*]').getOrCreate()\n",
        "\n",
        "# download da base de dados\n",
        "!wget --quiet --show-progress https://www.gov.br/economia/pt-br/assuntos/patrimonio-da-uniao/transparencia/dados-abertos/arquivos/2022/da-imoveisdauniao-_20220815.xlsx\n",
        "\n",
        "# carregando base de dados\n",
        "df_spark = pd.read_excel(\"./da-imoveisdauniao-_20220815.xlsx\")\n",
        "\n",
        "# criando dataframe spark\n",
        "df = spark.createDataFrame(df_spark)\n"
      ],
      "metadata": {
        "colab": {
          "base_uri": "https://localhost:8080/"
        },
        "id": "h72n_OAIptQi",
        "outputId": "5d89278d-f3e9-494b-db54-8273e7c9497b"
      },
      "execution_count": 3,
      "outputs": [
        {
          "output_type": "stream",
          "name": "stdout",
          "text": [
            "da-imoveisdauniao-_   5%[>                   ]   3.25M   733KB/s    in 5.0s    \n",
            "da-imoveisdauniao-_ 100%[+==================>]  54.67M   732KB/s    in 74s     \n"
          ]
        },
        {
          "output_type": "stream",
          "name": "stderr",
          "text": [
            "/usr/local/lib/python3.10/dist-packages/openpyxl/styles/stylesheet.py:226: UserWarning: Workbook contains no default style, apply openpyxl's default\n",
            "  warn(\"Workbook contains no default style, apply openpyxl's default\")\n"
          ]
        }
      ]
    },
    {
      "cell_type": "markdown",
      "source": [
        "# Exibindo algumas informações do Dataframe"
      ],
      "metadata": {
        "id": "O8jMykfAJ_3Q"
      }
    },
    {
      "cell_type": "code",
      "source": [
        "# Informações sobre os tipos de dados das colunas\n",
        "df.printSchema()\n",
        "# Exibir primeiras linhas do dataframe\n",
        "df.show(10)\n",
        "# Retornar quantidade total de instâncias do dataframe\n",
        "df.count()"
      ],
      "metadata": {
        "colab": {
          "base_uri": "https://localhost:8080/"
        },
        "id": "c5sleeSy9nRP",
        "outputId": "c1b5f305-2954-4d58-d8c8-b66a4807dd9e"
      },
      "execution_count": 6,
      "outputs": [
        {
          "output_type": "stream",
          "name": "stdout",
          "text": [
            "root\n",
            " |-- Classe: string (nullable = true)\n",
            " |-- Número do RIP: long (nullable = true)\n",
            " |-- Id. Utilização: double (nullable = true)\n",
            " |-- Data de cadastramento: string (nullable = true)\n",
            " |-- UF: string (nullable = true)\n",
            " |-- Município: string (nullable = true)\n",
            " |-- Endereço: string (nullable = true)\n",
            " |-- Bairro: string (nullable = true)\n",
            " |-- Conceituação: string (nullable = true)\n",
            " |-- Tipo Imóvel: string (nullable = true)\n",
            " |-- Regime de Utilização: string (nullable = true)\n",
            " |-- Proprietário Oficial: string (nullable = true)\n",
            " |-- Data do Início da Utilização: string (nullable = true)\n",
            " |-- Área do Terreno Total: string (nullable = true)\n",
            " |-- Área da União: string (nullable = true)\n",
            "\n",
            "+--------+-------------+--------------+---------------------+---+-------------+--------------------+---------+--------------------+-----------+--------------------+--------------------+----------------------------+---------------------+---------------+\n",
            "|  Classe|Número do RIP|Id. Utilização|Data de cadastramento| UF|    Município|            Endereço|   Bairro|        Conceituação|Tipo Imóvel|Regime de Utilização|Proprietário Oficial|Data do Início da Utilização|Área do Terreno Total|  Área da União|\n",
            "+--------+-------------+--------------+---------------------+---+-------------+--------------------+---------+--------------------+-----------+--------------------+--------------------+----------------------------+---------------------+---------------+\n",
            "|DOMINIAL|   1010000141|           2.0|           09-03-1999| RO|GUAJARA-MIRIM|AV BEIRA RIO 500 ...|   CENTRO|     MARGINAL DE RIO|    TERRENO|OCUPACAO         ...|União (Adm. Pub. ...|                  12-02-2001|             2.131,20|       2.131,20|\n",
            "|DOMINIAL|   1010000222|           1.0|           16-03-1999| RO|GUAJARA-MIRIM|AV BEIRA RIO 1398...|TRIANGULO|     MARGINAL DE RIO|    TERRENO|OCUPACAO         ...|União (Adm. Pub. ...|                  01-05-1998|             6.175,00|       6.175,00|\n",
            "|DOMINIAL|   1010000303|           1.0|           16-03-1999| RO|GUAJARA-MIRIM|AV BEIRA RIO 1001...|TRIANGULO|     MARGINAL DE RIO|    TERRENO|OCUPACAO         ...|União (Adm. Pub. ...|                  01-05-1998|             1.925,00|       1.925,00|\n",
            "|DOMINIAL|   1010000494|           1.0|           16-03-1999| RO|GUAJARA-MIRIM|AV ESTEVAO CORREA...|TRIANGULO|     MARGINAL DE RIO|    TERRENO|OCUPACAO         ...|União (Adm. Pub. ...|                  01-05-1998|             1.800,00|       1.800,00|\n",
            "|DOMINIAL|   1010000737|           1.0|           21-08-2000| RO|GUAJARA-MIRIM|AV BEIRA RIO 45 Q...|   CENTRO|MARGINAL DE RIO C...|    TERRENO|OCUPACAO         ...|União (Adm. Pub. ...|                  01-01-1997|               660,00|         660,00|\n",
            "|DOMINIAL|   1010000818|           1.0|           20-10-2000| RO|GUAJARA-MIRIM|AV CONSTITUICAO 6...|   CENTRO|   NACIONAL INTERIOR|    TERRENO|OCUPACAO         ...|União (Adm. Pub. ...|                  01-01-1997|               700,00|         700,00|\n",
            "|DOMINIAL|   1010000907|           2.0|           07-12-2001| RO|GUAJARA-MIRIM|AV CONSTITUICAO 1...|TRIANGULO|MARGINAL DE RIO C...|    TERRENO|OCUPACAO         ...|União (Adm. Pub. ...|                  30-08-2005|            10.870,00|      10.870,00|\n",
            "|DOMINIAL|   1010001032|           1.0|           17-01-2008| RO|GUAJARA-MIRIM|AV CONSTITUICAO 1...|TRIANGULO|MARGINAL DE RIO C...|    TERRENO|OCUPACAO         ...|União (Adm. Pub. ...|                  01-01-1984|             8.734,28|       8.734,28|\n",
            "|DOMINIAL|   1010001113|           1.0|           23-01-2008| RO|GUAJARA-MIRIM|AV BEIRA RIO 528 ...|   CENTRO|   NACIONAL INTERIOR|    TERRENO|OCUPACAO         ...|União (Adm. Pub. ...|                  01-01-1985|               321,01|         321,01|\n",
            "|DOMINIAL|   1010001202|           3.0|           29-02-2008| RO|GUAJARA-MIRIM|AV CONSTITUICAO 6...|   CENTRO|   NACIONAL INTERIOR|    TERRENO|OCUPACAO         ...|União (Adm. Pub. ...|                  28-05-2008|             1.132,00|       1.132,00|\n",
            "+--------+-------------+--------------+---------------------+---+-------------+--------------------+---------+--------------------+-----------+--------------------+--------------------+----------------------------+---------------------+---------------+\n",
            "only showing top 10 rows\n",
            "\n"
          ]
        },
        {
          "output_type": "execute_result",
          "data": {
            "text/plain": [
              "745106"
            ]
          },
          "metadata": {},
          "execution_count": 6
        }
      ]
    },
    {
      "cell_type": "markdown",
      "source": [
        "# Filtragem dos dados"
      ],
      "metadata": {
        "id": "7s_YkSOdKG9Q"
      }
    },
    {
      "cell_type": "code",
      "source": [
        "# Seleção das colunas a serem utilizadas no trabalho\n",
        "df_filtered = df.select('Número do RIP','Classe', 'UF', 'Município', 'Conceituação','Tipo Imóvel')\n",
        "df_filtered.show(10)\n",
        "\n",
        "# Informações sobre os tipos de dados das colunas\n",
        "df_filtered.printSchema()\n",
        "\n",
        "# Retornar quantidade total de instâncias do dataframe\n",
        "df_filtered.count()"
      ],
      "metadata": {
        "colab": {
          "base_uri": "https://localhost:8080/"
        },
        "id": "ui-OtrHFJeiO",
        "outputId": "165d23db-e358-47e6-bd20-846aaf1a65cd"
      },
      "execution_count": 7,
      "outputs": [
        {
          "output_type": "stream",
          "name": "stdout",
          "text": [
            "+-------------+--------+---+-------------+--------------------+-----------+\n",
            "|Número do RIP|  Classe| UF|    Município|        Conceituação|Tipo Imóvel|\n",
            "+-------------+--------+---+-------------+--------------------+-----------+\n",
            "|   1010000141|DOMINIAL| RO|GUAJARA-MIRIM|     MARGINAL DE RIO|    TERRENO|\n",
            "|   1010000222|DOMINIAL| RO|GUAJARA-MIRIM|     MARGINAL DE RIO|    TERRENO|\n",
            "|   1010000303|DOMINIAL| RO|GUAJARA-MIRIM|     MARGINAL DE RIO|    TERRENO|\n",
            "|   1010000494|DOMINIAL| RO|GUAJARA-MIRIM|     MARGINAL DE RIO|    TERRENO|\n",
            "|   1010000737|DOMINIAL| RO|GUAJARA-MIRIM|MARGINAL DE RIO C...|    TERRENO|\n",
            "|   1010000818|DOMINIAL| RO|GUAJARA-MIRIM|   NACIONAL INTERIOR|    TERRENO|\n",
            "|   1010000907|DOMINIAL| RO|GUAJARA-MIRIM|MARGINAL DE RIO C...|    TERRENO|\n",
            "|   1010001032|DOMINIAL| RO|GUAJARA-MIRIM|MARGINAL DE RIO C...|    TERRENO|\n",
            "|   1010001113|DOMINIAL| RO|GUAJARA-MIRIM|   NACIONAL INTERIOR|    TERRENO|\n",
            "|   1010001202|DOMINIAL| RO|GUAJARA-MIRIM|   NACIONAL INTERIOR|    TERRENO|\n",
            "+-------------+--------+---+-------------+--------------------+-----------+\n",
            "only showing top 10 rows\n",
            "\n",
            "root\n",
            " |-- Número do RIP: long (nullable = true)\n",
            " |-- Classe: string (nullable = true)\n",
            " |-- UF: string (nullable = true)\n",
            " |-- Município: string (nullable = true)\n",
            " |-- Conceituação: string (nullable = true)\n",
            " |-- Tipo Imóvel: string (nullable = true)\n",
            "\n"
          ]
        },
        {
          "output_type": "execute_result",
          "data": {
            "text/plain": [
              "745106"
            ]
          },
          "metadata": {},
          "execution_count": 7
        }
      ]
    },
    {
      "cell_type": "code",
      "source": [
        "df_filtered=df_filtered.withColumnRenamed(\"Município\", \"Municipio\").withColumnRenamed(\"Conceituação\", \"Conceituacao\").withColumnRenamed(\"Tipo Imóvel\", \"TipoImovel\")\n",
        "df_filtered.show()\n"
      ],
      "metadata": {
        "colab": {
          "base_uri": "https://localhost:8080/"
        },
        "id": "goX6ZQtuvwRu",
        "outputId": "7c2bef69-a1c8-45a7-e899-0ad6fecf2004"
      },
      "execution_count": 8,
      "outputs": [
        {
          "output_type": "stream",
          "name": "stdout",
          "text": [
            "+-------------+--------+---+-------------+--------------------+----------+\n",
            "|Número do RIP|  Classe| UF|    Municipio|        Conceituacao|TipoImovel|\n",
            "+-------------+--------+---+-------------+--------------------+----------+\n",
            "|   1010000141|DOMINIAL| RO|GUAJARA-MIRIM|     MARGINAL DE RIO|   TERRENO|\n",
            "|   1010000222|DOMINIAL| RO|GUAJARA-MIRIM|     MARGINAL DE RIO|   TERRENO|\n",
            "|   1010000303|DOMINIAL| RO|GUAJARA-MIRIM|     MARGINAL DE RIO|   TERRENO|\n",
            "|   1010000494|DOMINIAL| RO|GUAJARA-MIRIM|     MARGINAL DE RIO|   TERRENO|\n",
            "|   1010000737|DOMINIAL| RO|GUAJARA-MIRIM|MARGINAL DE RIO C...|   TERRENO|\n",
            "|   1010000818|DOMINIAL| RO|GUAJARA-MIRIM|   NACIONAL INTERIOR|   TERRENO|\n",
            "|   1010000907|DOMINIAL| RO|GUAJARA-MIRIM|MARGINAL DE RIO C...|   TERRENO|\n",
            "|   1010001032|DOMINIAL| RO|GUAJARA-MIRIM|MARGINAL DE RIO C...|   TERRENO|\n",
            "|   1010001113|DOMINIAL| RO|GUAJARA-MIRIM|   NACIONAL INTERIOR|   TERRENO|\n",
            "|   1010001202|DOMINIAL| RO|GUAJARA-MIRIM|   NACIONAL INTERIOR|   TERRENO|\n",
            "|   1010001385|DOMINIAL| RO|GUAJARA-MIRIM|MARGINAL DE RIO C...|   TERRENO|\n",
            "|   1010001547|DOMINIAL| RO|GUAJARA-MIRIM|MARGINAL DE RIO C...|   TERRENO|\n",
            "|   1010001628|DOMINIAL| RO|GUAJARA-MIRIM|   NACIONAL INTERIOR|   TERRENO|\n",
            "|   1010001709|DOMINIAL| RO|GUAJARA-MIRIM|   NACIONAL INTERIOR|   TERRENO|\n",
            "|   1010001890|DOMINIAL| RO|GUAJARA-MIRIM|   NACIONAL INTERIOR|   TERRENO|\n",
            "|   1010001970|DOMINIAL| RO|GUAJARA-MIRIM|   NACIONAL INTERIOR|   TERRENO|\n",
            "|   1010002004|DOMINIAL| RO|GUAJARA-MIRIM|   NACIONAL INTERIOR|   TERRENO|\n",
            "|   1010002195|DOMINIAL| RO|GUAJARA-MIRIM|   NACIONAL INTERIOR|   TERRENO|\n",
            "|   1010002276|DOMINIAL| RO|GUAJARA-MIRIM|   NACIONAL INTERIOR|   TERRENO|\n",
            "|   1010002357|DOMINIAL| RO|GUAJARA-MIRIM|   NACIONAL INTERIOR|   TERRENO|\n",
            "+-------------+--------+---+-------------+--------------------+----------+\n",
            "only showing top 20 rows\n",
            "\n"
          ]
        }
      ]
    },
    {
      "cell_type": "markdown",
      "source": [
        "# Exportando df em formato Parquet"
      ],
      "metadata": {
        "id": "7lba6xI6P9tl"
      }
    },
    {
      "cell_type": "code",
      "source": [
        "df_filtered.write.format('parquet').mode('overwrite').save('imoveisdauniao_filtered_parquet')\n"
      ],
      "metadata": {
        "id": "AMFCAhWcQR5f"
      },
      "execution_count": 9,
      "outputs": []
    },
    {
      "cell_type": "markdown",
      "source": [
        "# Lendo arquivo em formato Parquet"
      ],
      "metadata": {
        "id": "14Jkplt2VBdH"
      }
    },
    {
      "cell_type": "code",
      "source": [
        "read_df_parquet = spark.read.format('parquet').load('imoveisdauniao_filtered_parquet')"
      ],
      "metadata": {
        "id": "bK_XUEYaQiaF"
      },
      "execution_count": 10,
      "outputs": []
    },
    {
      "cell_type": "code",
      "source": [
        "read_df_parquet.show(10)"
      ],
      "metadata": {
        "colab": {
          "base_uri": "https://localhost:8080/"
        },
        "id": "FKO6rh4sQmVO",
        "outputId": "3e0c3bf5-a098-4ee0-8a04-5ce3cd16a00c"
      },
      "execution_count": 11,
      "outputs": [
        {
          "output_type": "stream",
          "name": "stdout",
          "text": [
            "+-------------+--------+---+---------+------------+----------+\n",
            "|Número do RIP|  Classe| UF|Municipio|Conceituacao|TipoImovel|\n",
            "+-------------+--------+---+---------+------------+----------+\n",
            "|5705010995415|DOMINIAL| ES|  VITORIA|     MARINHA|   TERRENO|\n",
            "|5705010995504|DOMINIAL| ES|  VITORIA|     MARINHA|   TERRENO|\n",
            "|5705010995687|DOMINIAL| ES|  VITORIA|     MARINHA|   TERRENO|\n",
            "|5705010995768|DOMINIAL| ES|  VITORIA|     MARINHA|   TERRENO|\n",
            "|5705010995849|DOMINIAL| ES|  VITORIA|     MARINHA|   TERRENO|\n",
            "|5705010995920|DOMINIAL| ES|  VITORIA|     MARINHA|   TERRENO|\n",
            "|5705010996063|DOMINIAL| ES|  VITORIA|     MARINHA|   TERRENO|\n",
            "|5705010996144|DOMINIAL| ES|  VITORIA|     MARINHA|   TERRENO|\n",
            "|5705010996225|DOMINIAL| ES|  VITORIA|     MARINHA|   TERRENO|\n",
            "|5705010996306|DOMINIAL| ES|  VITORIA|     MARINHA|   TERRENO|\n",
            "+-------------+--------+---+---------+------------+----------+\n",
            "only showing top 10 rows\n",
            "\n"
          ]
        }
      ]
    },
    {
      "cell_type": "markdown",
      "source": [
        "#Consultas SQL"
      ],
      "metadata": {
        "id": "xqeaQn11c9tF"
      }
    },
    {
      "cell_type": "code",
      "source": [
        "# Habilitando Dataframe para consultas SQL\n",
        "read_df_parquet.createOrReplaceTempView('imoveisUniao')"
      ],
      "metadata": {
        "id": "-NAdkJsWS3o5"
      },
      "execution_count": 12,
      "outputs": []
    },
    {
      "cell_type": "code",
      "source": [
        "# Imóveis Funcionais no DF\n",
        "consulta = spark.sql(\" \\\n",
        "            SELECT * \\\n",
        "            FROM imoveisUniao \\\n",
        "            WHERE UF = 'DF' and Classe = 'IMOVEL FUNCIONAL' \\\n",
        "            ORDER BY TipoImovel\")\n",
        "\n",
        "consulta.show(5)\n",
        "consulta.count()"
      ],
      "metadata": {
        "colab": {
          "base_uri": "https://localhost:8080/"
        },
        "id": "SNXtCn5ES4xx",
        "outputId": "2fc33a35-280c-404f-af5f-9a1bea5c4dd1"
      },
      "execution_count": 13,
      "outputs": [
        {
          "output_type": "stream",
          "name": "stdout",
          "text": [
            "+-------------+----------------+---+---------+-----------------+-----------+\n",
            "|Número do RIP|          Classe| UF|Municipio|     Conceituacao| TipoImovel|\n",
            "+-------------+----------------+---+---------+-----------------+-----------+\n",
            "|9701309715000|IMOVEL FUNCIONAL| DF| BRASILIA|NACIONAL INTERIOR|  ALFÂNDEGA|\n",
            "|9701159075000|IMOVEL FUNCIONAL| DF| BRASILIA|NACIONAL INTERIOR|APARTAMENTO|\n",
            "|9701159235008|IMOVEL FUNCIONAL| DF| BRASILIA|NACIONAL INTERIOR|APARTAMENTO|\n",
            "|9701159255009|IMOVEL FUNCIONAL| DF| BRASILIA|NACIONAL INTERIOR|APARTAMENTO|\n",
            "|9701159265004|IMOVEL FUNCIONAL| DF| BRASILIA|NACIONAL INTERIOR|APARTAMENTO|\n",
            "+-------------+----------------+---+---------+-----------------+-----------+\n",
            "only showing top 5 rows\n",
            "\n"
          ]
        },
        {
          "output_type": "execute_result",
          "data": {
            "text/plain": [
              "7162"
            ]
          },
          "metadata": {},
          "execution_count": 13
        }
      ]
    },
    {
      "cell_type": "code",
      "source": [
        "# Imóveis Funcionais Totais\n",
        "consulta = spark.sql(\" \\\n",
        "            SELECT * \\\n",
        "            FROM imoveisUniao \\\n",
        "            WHERE Classe = 'IMOVEL FUNCIONAL' \\\n",
        "            ORDER BY TipoImovel\")\n",
        "\n",
        "consulta.show(5)\n",
        "consulta.count()"
      ],
      "metadata": {
        "colab": {
          "base_uri": "https://localhost:8080/"
        },
        "id": "-b0O4qvgsVyQ",
        "outputId": "ef4a1207-85db-4796-967d-0762cc73233d"
      },
      "execution_count": 14,
      "outputs": [
        {
          "output_type": "stream",
          "name": "stdout",
          "text": [
            "+-------------+----------------+---+---------+-----------------+-----------+\n",
            "|Número do RIP|          Classe| UF|Municipio|     Conceituacao| TipoImovel|\n",
            "+-------------+----------------+---+---------+-----------------+-----------+\n",
            "|9701309715000|IMOVEL FUNCIONAL| DF| BRASILIA|NACIONAL INTERIOR|  ALFÂNDEGA|\n",
            "|9701159275000|IMOVEL FUNCIONAL| DF| BRASILIA|NACIONAL INTERIOR|APARTAMENTO|\n",
            "|9701159615005|IMOVEL FUNCIONAL| DF| BRASILIA|NACIONAL INTERIOR|APARTAMENTO|\n",
            "|9701159285005|IMOVEL FUNCIONAL| DF| BRASILIA|NACIONAL INTERIOR|APARTAMENTO|\n",
            "|9701159075000|IMOVEL FUNCIONAL| DF| BRASILIA|NACIONAL INTERIOR|APARTAMENTO|\n",
            "+-------------+----------------+---+---------+-----------------+-----------+\n",
            "only showing top 5 rows\n",
            "\n"
          ]
        },
        {
          "output_type": "execute_result",
          "data": {
            "text/plain": [
              "7292"
            ]
          },
          "metadata": {},
          "execution_count": 14
        }
      ]
    },
    {
      "cell_type": "code",
      "source": [
        "# Conceituação: Terras Indígenas (Total)\n",
        "\n",
        "consulta = spark.sql(\" \\\n",
        "            SELECT * \\\n",
        "            FROM imoveisUniao \\\n",
        "            WHERE Conceituacao in ('TERRA INDÍGENA', 'TERRA INDIGENA') \\\n",
        "            ORDER BY UF\")\n",
        "\n",
        "consulta.show(5)\n",
        "consulta.count()"
      ],
      "metadata": {
        "colab": {
          "base_uri": "https://localhost:8080/"
        },
        "id": "EfXLH5hYy6Mu",
        "outputId": "d28c94f3-4881-4283-e985-a28917a01c4d"
      },
      "execution_count": 15,
      "outputs": [
        {
          "output_type": "stream",
          "name": "stdout",
          "text": [
            "+-------------+------------+---+---------+--------------+----------+\n",
            "|Número do RIP|      Classe| UF|Municipio|  Conceituacao|TipoImovel|\n",
            "+-------------+------------+---+---------+--------------+----------+\n",
            "| 113000175003|USO ESPECIAL| AC|    FEIJO|TERRA INDÍGENA|   RESERVA|\n",
            "| 113000355001|USO ESPECIAL| AC|    FEIJO|TERRA INDÍGENA|   RESERVA|\n",
            "| 113000195004|USO ESPECIAL| AC|    FEIJO|TERRA INDÍGENA|   RESERVA|\n",
            "| 113000145007|USO ESPECIAL| AC|    FEIJO|TERRA INDÍGENA|   RESERVA|\n",
            "| 113000205000|USO ESPECIAL| AC|    FEIJO|TERRA INDÍGENA|   RESERVA|\n",
            "+-------------+------------+---+---------+--------------+----------+\n",
            "only showing top 5 rows\n",
            "\n"
          ]
        },
        {
          "output_type": "execute_result",
          "data": {
            "text/plain": [
              "716"
            ]
          },
          "metadata": {},
          "execution_count": 15
        }
      ]
    },
    {
      "cell_type": "code",
      "source": [
        "# Conceituação: Terras Indígenas (Norte)\n",
        "\n",
        "consulta = spark.sql(\" \\\n",
        "            SELECT * \\\n",
        "            FROM imoveisUniao \\\n",
        "            WHERE Conceituacao in ('TERRA INDÍGENA', 'TERRA INDIGENA') \\\n",
        "            and UF in ('AC', 'AP' , 'AM', 'PA', 'RO', 'RR', 'TO')\\\n",
        "            ORDER BY UF\")\n",
        "\n",
        "consulta.show(5)\n",
        "consulta.count()"
      ],
      "metadata": {
        "colab": {
          "base_uri": "https://localhost:8080/"
        },
        "id": "t10A5h4n73n0",
        "outputId": "f5a3055c-4bc7-4445-c2a2-33075ce0e7b2"
      },
      "execution_count": 16,
      "outputs": [
        {
          "output_type": "stream",
          "name": "stdout",
          "text": [
            "+-------------+------------+---+---------------+--------------+----------+\n",
            "|Número do RIP|      Classe| UF|      Municipio|  Conceituacao|TipoImovel|\n",
            "+-------------+------------+---+---------------+--------------+----------+\n",
            "| 107000555006|USO ESPECIAL| AC|CRUZEIRO DO SUL|TERRA INDÍGENA|   RESERVA|\n",
            "| 113000195004|USO ESPECIAL| AC|          FEIJO|TERRA INDÍGENA|   RESERVA|\n",
            "| 109000025003|USO ESPECIAL| AC|    MANCIO LIMA|TERRA INDÍGENA|   RESERVA|\n",
            "| 109000035009|USO ESPECIAL| AC|    MANCIO LIMA|TERRA INDÍGENA|   RESERVA|\n",
            "| 113000145007|USO ESPECIAL| AC|          FEIJO|TERRA INDÍGENA|   RESERVA|\n",
            "+-------------+------------+---+---------------+--------------+----------+\n",
            "only showing top 5 rows\n",
            "\n"
          ]
        },
        {
          "output_type": "execute_result",
          "data": {
            "text/plain": [
              "407"
            ]
          },
          "metadata": {},
          "execution_count": 16
        }
      ]
    },
    {
      "cell_type": "code",
      "source": [
        "# Conceituação: Terras Indígenas (Centro-Sul + Nordeste)\n",
        "\n",
        "consulta = spark.sql(\" \\\n",
        "            SELECT * \\\n",
        "            FROM imoveisUniao \\\n",
        "            WHERE Conceituacao in ('TERRA INDÍGENA', 'TERRA INDIGENA') \\\n",
        "            and UF in ('RJ','SP','MG','ES', 'PR', 'RS', 'SC', 'DF', 'GO', \\\n",
        "            'MT', 'MS','AL', 'BA', 'CE', 'MA', 'PB', 'PE', 'PI', 'RN', 'SE')\\\n",
        "            ORDER BY UF\")\n",
        "\n",
        "consulta.show(5)\n",
        "consulta.count()"
      ],
      "metadata": {
        "colab": {
          "base_uri": "https://localhost:8080/"
        },
        "id": "WNvHQT4R4wjh",
        "outputId": "c7a88b49-4f7f-41ff-a725-20477729588a"
      },
      "execution_count": 17,
      "outputs": [
        {
          "output_type": "stream",
          "name": "stdout",
          "text": [
            "+-------------+------------+---+------------+--------------+----------+\n",
            "|Número do RIP|      Classe| UF|   Municipio|  Conceituacao|TipoImovel|\n",
            "+-------------+------------+---+------------+--------------+----------+\n",
            "|2645000095000|USO ESPECIAL| AL|   PARICONHA|TERRA INDÍGENA|      CASA|\n",
            "|2729000035002|USO ESPECIAL| AL|CAMPO GRANDE|TERRA INDÍGENA|   RESERVA|\n",
            "|2645000115001|USO ESPECIAL| AL|   PARICONHA|TERRA INDÍGENA|    OUTROS|\n",
            "|2645000135002|USO ESPECIAL| AL|   PARICONHA|TERRA INDÍGENA|    OUTROS|\n",
            "|2701000175009|USO ESPECIAL| AL| AGUA BRANCA|TERRA INDÍGENA|   RESERVA|\n",
            "+-------------+------------+---+------------+--------------+----------+\n",
            "only showing top 5 rows\n",
            "\n"
          ]
        },
        {
          "output_type": "execute_result",
          "data": {
            "text/plain": [
              "309"
            ]
          },
          "metadata": {},
          "execution_count": 17
        }
      ]
    }
  ]
}