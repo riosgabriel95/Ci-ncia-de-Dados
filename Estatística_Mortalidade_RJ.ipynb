{
  "nbformat": 4,
  "nbformat_minor": 0,
  "metadata": {
    "colab": {
      "provenance": []
    },
    "kernelspec": {
      "name": "python3",
      "display_name": "Python 3"
    },
    "language_info": {
      "name": "python"
    }
  },
  "cells": [
    {
      "cell_type": "markdown",
      "source": [
        "> UNICARIOCA - PÓS GRADUAÇÃO EM CIÊNCIA DE DADOS\n",
        "\n",
        "> TRABALHO - ESTATÍSTICA APLICADA A NEGÓCIOS\n",
        "\n",
        "> Grupo: Gabriel Rios de Carvalho, Ana Carolina Alves e Allan Vieira de Santana"
      ],
      "metadata": {
        "id": "Aapo3JM06NRR"
      }
    },
    {
      "cell_type": "markdown",
      "source": [
        ">A planilha tx_bruta_mortalidade_rj.xlsx contém dados sobre a taxa bruta de \n",
        "mortalidade  os municípios do estado do Rio de Janeiro no período de 2000 a 2021. "
      ],
      "metadata": {
        "id": "AEj-Z74UREnD"
      }
    },
    {
      "cell_type": "markdown",
      "source": [
        " EXERCÍCIO 1 - ANÁLISE EXPLORATÓRIA DE DADOS\n",
        "\n",
        ">A - Leia o arquivo (está no AVA) para um Data Frame (DF) \n",
        "\n",
        ">B - Exiba as Estatísticas Descritivas do DF usando o DESCRIBE\n",
        "\n",
        ">C - Calcule e armazene o vetor de médias por Município (media_mun) (92) e o \n",
        "vetor de médias por Ano (media_ano) (22)\n",
        "\n",
        ">D - Realize uma Análise Exploratória de Dados para os vetores de médias por \n",
        "município e por ano (media_mun e media_ano)\n",
        "\n",
        ">E - Determine os valores dos outliers para cada variável (media_mun e media_ano), Identifique e exiba os municípios e os anos que são outliers.\n",
        "\n",
        "> F- Crie uma rotina para classificar a taxa média de mortalidade por município \n",
        "(media_mun) em 4 categorias (1-2-3-4) correspondentes aos quartis. \n",
        "Adicione esse indicador a última coluna do Data Frame original.\n",
        "\n",
        "> G - Gere indicadores numéricos e gráficos que permitam avaliar a distribuição \n",
        "desse indicador. Lembre-se que é uma variável discreta… "
      ],
      "metadata": {
        "id": "ackkWLgV7gOa"
      }
    },
    {
      "cell_type": "markdown",
      "source": [
        "## A - Leitura do arquivo (tx_bruta_mortalidade_rj.xlsx) para DataFrame\n",
        "\n",
        "---\n",
        "\n"
      ],
      "metadata": {
        "id": "3oviUbHz71gJ"
      }
    },
    {
      "cell_type": "code",
      "source": [
        "!pip install openpyxl --upgrade # SE FOR NECESSÁRIO\n",
        "!pip install pandas --upgrade # SE FOR NECESSÁRIO"
      ],
      "metadata": {
        "id": "T7CZ7kdO612G"
      },
      "execution_count": null,
      "outputs": []
    },
    {
      "cell_type": "code",
      "source": [
        "from google.colab import files\n",
        "\n",
        "arquivo = files.upload() # IMPORTAÇÃO DA PLANILHA COM OS DADOS DE TX DE MORTALIDADE BRUTA\n",
        "nome=list(arquivo.keys())[0] # INSERE NOME DO ARQUIVO NA VARIÁVEL NOME"
      ],
      "metadata": {
        "id": "U6UcCIk58bao",
        "colab": {
          "base_uri": "https://localhost:8080/",
          "height": 73
        },
        "outputId": "4c817056-5fc2-4732-aedb-b9adbd292380"
      },
      "execution_count": null,
      "outputs": [
        {
          "output_type": "display_data",
          "data": {
            "text/plain": [
              "<IPython.core.display.HTML object>"
            ],
            "text/html": [
              "\n",
              "     <input type=\"file\" id=\"files-7d58a6fa-d7e5-4a11-a3d5-9e78660cf1d1\" name=\"files[]\" multiple disabled\n",
              "        style=\"border:none\" />\n",
              "     <output id=\"result-7d58a6fa-d7e5-4a11-a3d5-9e78660cf1d1\">\n",
              "      Upload widget is only available when the cell has been executed in the\n",
              "      current browser session. Please rerun this cell to enable.\n",
              "      </output>\n",
              "      <script>// Copyright 2017 Google LLC\n",
              "//\n",
              "// Licensed under the Apache License, Version 2.0 (the \"License\");\n",
              "// you may not use this file except in compliance with the License.\n",
              "// You may obtain a copy of the License at\n",
              "//\n",
              "//      http://www.apache.org/licenses/LICENSE-2.0\n",
              "//\n",
              "// Unless required by applicable law or agreed to in writing, software\n",
              "// distributed under the License is distributed on an \"AS IS\" BASIS,\n",
              "// WITHOUT WARRANTIES OR CONDITIONS OF ANY KIND, either express or implied.\n",
              "// See the License for the specific language governing permissions and\n",
              "// limitations under the License.\n",
              "\n",
              "/**\n",
              " * @fileoverview Helpers for google.colab Python module.\n",
              " */\n",
              "(function(scope) {\n",
              "function span(text, styleAttributes = {}) {\n",
              "  const element = document.createElement('span');\n",
              "  element.textContent = text;\n",
              "  for (const key of Object.keys(styleAttributes)) {\n",
              "    element.style[key] = styleAttributes[key];\n",
              "  }\n",
              "  return element;\n",
              "}\n",
              "\n",
              "// Max number of bytes which will be uploaded at a time.\n",
              "const MAX_PAYLOAD_SIZE = 100 * 1024;\n",
              "\n",
              "function _uploadFiles(inputId, outputId) {\n",
              "  const steps = uploadFilesStep(inputId, outputId);\n",
              "  const outputElement = document.getElementById(outputId);\n",
              "  // Cache steps on the outputElement to make it available for the next call\n",
              "  // to uploadFilesContinue from Python.\n",
              "  outputElement.steps = steps;\n",
              "\n",
              "  return _uploadFilesContinue(outputId);\n",
              "}\n",
              "\n",
              "// This is roughly an async generator (not supported in the browser yet),\n",
              "// where there are multiple asynchronous steps and the Python side is going\n",
              "// to poll for completion of each step.\n",
              "// This uses a Promise to block the python side on completion of each step,\n",
              "// then passes the result of the previous step as the input to the next step.\n",
              "function _uploadFilesContinue(outputId) {\n",
              "  const outputElement = document.getElementById(outputId);\n",
              "  const steps = outputElement.steps;\n",
              "\n",
              "  const next = steps.next(outputElement.lastPromiseValue);\n",
              "  return Promise.resolve(next.value.promise).then((value) => {\n",
              "    // Cache the last promise value to make it available to the next\n",
              "    // step of the generator.\n",
              "    outputElement.lastPromiseValue = value;\n",
              "    return next.value.response;\n",
              "  });\n",
              "}\n",
              "\n",
              "/**\n",
              " * Generator function which is called between each async step of the upload\n",
              " * process.\n",
              " * @param {string} inputId Element ID of the input file picker element.\n",
              " * @param {string} outputId Element ID of the output display.\n",
              " * @return {!Iterable<!Object>} Iterable of next steps.\n",
              " */\n",
              "function* uploadFilesStep(inputId, outputId) {\n",
              "  const inputElement = document.getElementById(inputId);\n",
              "  inputElement.disabled = false;\n",
              "\n",
              "  const outputElement = document.getElementById(outputId);\n",
              "  outputElement.innerHTML = '';\n",
              "\n",
              "  const pickedPromise = new Promise((resolve) => {\n",
              "    inputElement.addEventListener('change', (e) => {\n",
              "      resolve(e.target.files);\n",
              "    });\n",
              "  });\n",
              "\n",
              "  const cancel = document.createElement('button');\n",
              "  inputElement.parentElement.appendChild(cancel);\n",
              "  cancel.textContent = 'Cancel upload';\n",
              "  const cancelPromise = new Promise((resolve) => {\n",
              "    cancel.onclick = () => {\n",
              "      resolve(null);\n",
              "    };\n",
              "  });\n",
              "\n",
              "  // Wait for the user to pick the files.\n",
              "  const files = yield {\n",
              "    promise: Promise.race([pickedPromise, cancelPromise]),\n",
              "    response: {\n",
              "      action: 'starting',\n",
              "    }\n",
              "  };\n",
              "\n",
              "  cancel.remove();\n",
              "\n",
              "  // Disable the input element since further picks are not allowed.\n",
              "  inputElement.disabled = true;\n",
              "\n",
              "  if (!files) {\n",
              "    return {\n",
              "      response: {\n",
              "        action: 'complete',\n",
              "      }\n",
              "    };\n",
              "  }\n",
              "\n",
              "  for (const file of files) {\n",
              "    const li = document.createElement('li');\n",
              "    li.append(span(file.name, {fontWeight: 'bold'}));\n",
              "    li.append(span(\n",
              "        `(${file.type || 'n/a'}) - ${file.size} bytes, ` +\n",
              "        `last modified: ${\n",
              "            file.lastModifiedDate ? file.lastModifiedDate.toLocaleDateString() :\n",
              "                                    'n/a'} - `));\n",
              "    const percent = span('0% done');\n",
              "    li.appendChild(percent);\n",
              "\n",
              "    outputElement.appendChild(li);\n",
              "\n",
              "    const fileDataPromise = new Promise((resolve) => {\n",
              "      const reader = new FileReader();\n",
              "      reader.onload = (e) => {\n",
              "        resolve(e.target.result);\n",
              "      };\n",
              "      reader.readAsArrayBuffer(file);\n",
              "    });\n",
              "    // Wait for the data to be ready.\n",
              "    let fileData = yield {\n",
              "      promise: fileDataPromise,\n",
              "      response: {\n",
              "        action: 'continue',\n",
              "      }\n",
              "    };\n",
              "\n",
              "    // Use a chunked sending to avoid message size limits. See b/62115660.\n",
              "    let position = 0;\n",
              "    do {\n",
              "      const length = Math.min(fileData.byteLength - position, MAX_PAYLOAD_SIZE);\n",
              "      const chunk = new Uint8Array(fileData, position, length);\n",
              "      position += length;\n",
              "\n",
              "      const base64 = btoa(String.fromCharCode.apply(null, chunk));\n",
              "      yield {\n",
              "        response: {\n",
              "          action: 'append',\n",
              "          file: file.name,\n",
              "          data: base64,\n",
              "        },\n",
              "      };\n",
              "\n",
              "      let percentDone = fileData.byteLength === 0 ?\n",
              "          100 :\n",
              "          Math.round((position / fileData.byteLength) * 100);\n",
              "      percent.textContent = `${percentDone}% done`;\n",
              "\n",
              "    } while (position < fileData.byteLength);\n",
              "  }\n",
              "\n",
              "  // All done.\n",
              "  yield {\n",
              "    response: {\n",
              "      action: 'complete',\n",
              "    }\n",
              "  };\n",
              "}\n",
              "\n",
              "scope.google = scope.google || {};\n",
              "scope.google.colab = scope.google.colab || {};\n",
              "scope.google.colab._files = {\n",
              "  _uploadFiles,\n",
              "  _uploadFilesContinue,\n",
              "};\n",
              "})(self);\n",
              "</script> "
            ]
          },
          "metadata": {}
        },
        {
          "output_type": "stream",
          "name": "stdout",
          "text": [
            "Saving tx_bruta_mortalidade_RJ.xlsx to tx_bruta_mortalidade_RJ.xlsx\n"
          ]
        }
      ]
    },
    {
      "cell_type": "code",
      "source": [
        "import io  # IO serve para lidar com vários tipos de E/S.\n",
        "import pandas as pd\n",
        "import numpy as np\n",
        "import matplotlib.pyplot as plt\n",
        "from scipy import stats\n",
        "import statistics as st\n",
        "import math as mat\n",
        "df = pd.read_excel(io.BytesIO(arquivo[nome])) #TRANSFORMA PLANILHA EM DATA FRAME\n",
        "pd.set_option('display.float_format', lambda x: '%.3f' % x) #FORMATAR DF PARA EXIBIR APENAS TRÊS CASAS DECIMAIS"
      ],
      "metadata": {
        "id": "E5R1UlRO81WX"
      },
      "execution_count": null,
      "outputs": []
    },
    {
      "cell_type": "markdown",
      "source": [
        "## B - Estatísticas Descritivas (Describe)\n"
      ],
      "metadata": {
        "id": "t1x2oxUcQToV"
      }
    },
    {
      "cell_type": "code",
      "source": [
        "df.describe()"
      ],
      "metadata": {
        "colab": {
          "base_uri": "https://localhost:8080/",
          "height": 330
        },
        "id": "jYsch7EFJdYl",
        "outputId": "a0ea396d-31ec-4a2f-f733-d60b2ac9299d"
      },
      "execution_count": null,
      "outputs": [
        {
          "output_type": "execute_result",
          "data": {
            "text/plain": [
              "        2000   2001   2002   2003   2004   2005   2006   2007   2008   2009  \\\n",
              "count 92.000 92.000 92.000 92.000 92.000 92.000 92.000 92.000 92.000 92.000   \n",
              "mean   6.790  6.799  6.871  6.906  6.874  6.754  6.808  6.930  7.139  7.075   \n",
              "std    1.294  1.115  1.120  1.241  1.186  1.194  1.168  1.083  1.291  1.141   \n",
              "min    0.000  3.771  4.288  4.223  4.470  3.299  4.081  4.697  4.537  4.645   \n",
              "25%    6.182  5.956  6.115  6.023  6.281  5.916  5.839  6.021  6.429  6.498   \n",
              "50%    6.907  6.825  6.979  6.955  6.876  6.694  6.923  7.021  7.182  7.031   \n",
              "75%    7.599  7.727  7.472  7.808  7.661  7.479  7.672  7.651  7.779  7.732   \n",
              "max    9.355  8.957  9.512 11.131 11.242 10.778  9.874 10.092 13.016 11.804   \n",
              "\n",
              "       ...   2012   2013   2014   2015   2016   2017   2018   2019   2020  \\\n",
              "count  ... 92.000 92.000 92.000 92.000 92.000 92.000 92.000 92.000 92.000   \n",
              "mean   ...  7.339  7.501  7.554  7.587  7.945  7.870  7.945  7.965  9.342   \n",
              "std    ...  1.206  1.243  1.140  1.131  1.238  1.086  1.083  1.410  1.532   \n",
              "min    ...  4.857  4.274  5.153  5.211  4.781  5.085  5.175  4.059  5.958   \n",
              "25%    ...  6.592  6.783  6.846  6.835  7.184  7.266  7.358  7.134  8.373   \n",
              "50%    ...  7.298  7.559  7.540  7.452  8.090  7.848  8.067  7.995  9.323   \n",
              "75%    ...  8.097  8.218  8.198  8.247  8.802  8.586  8.563  8.929 10.208   \n",
              "max    ... 10.515 12.853 11.394 11.275 10.727 10.848 11.661 11.693 13.787   \n",
              "\n",
              "        2021  \n",
              "count 92.000  \n",
              "mean  10.134  \n",
              "std    1.832  \n",
              "min    5.132  \n",
              "25%    9.048  \n",
              "50%   10.090  \n",
              "75%   11.286  \n",
              "max   14.565  \n",
              "\n",
              "[8 rows x 22 columns]"
            ],
            "text/html": [
              "\n",
              "  <div id=\"df-0de8c271-828b-4735-b260-bcc343399072\">\n",
              "    <div class=\"colab-df-container\">\n",
              "      <div>\n",
              "<style scoped>\n",
              "    .dataframe tbody tr th:only-of-type {\n",
              "        vertical-align: middle;\n",
              "    }\n",
              "\n",
              "    .dataframe tbody tr th {\n",
              "        vertical-align: top;\n",
              "    }\n",
              "\n",
              "    .dataframe thead th {\n",
              "        text-align: right;\n",
              "    }\n",
              "</style>\n",
              "<table border=\"1\" class=\"dataframe\">\n",
              "  <thead>\n",
              "    <tr style=\"text-align: right;\">\n",
              "      <th></th>\n",
              "      <th>2000</th>\n",
              "      <th>2001</th>\n",
              "      <th>2002</th>\n",
              "      <th>2003</th>\n",
              "      <th>2004</th>\n",
              "      <th>2005</th>\n",
              "      <th>2006</th>\n",
              "      <th>2007</th>\n",
              "      <th>2008</th>\n",
              "      <th>2009</th>\n",
              "      <th>...</th>\n",
              "      <th>2012</th>\n",
              "      <th>2013</th>\n",
              "      <th>2014</th>\n",
              "      <th>2015</th>\n",
              "      <th>2016</th>\n",
              "      <th>2017</th>\n",
              "      <th>2018</th>\n",
              "      <th>2019</th>\n",
              "      <th>2020</th>\n",
              "      <th>2021</th>\n",
              "    </tr>\n",
              "  </thead>\n",
              "  <tbody>\n",
              "    <tr>\n",
              "      <th>count</th>\n",
              "      <td>92.000</td>\n",
              "      <td>92.000</td>\n",
              "      <td>92.000</td>\n",
              "      <td>92.000</td>\n",
              "      <td>92.000</td>\n",
              "      <td>92.000</td>\n",
              "      <td>92.000</td>\n",
              "      <td>92.000</td>\n",
              "      <td>92.000</td>\n",
              "      <td>92.000</td>\n",
              "      <td>...</td>\n",
              "      <td>92.000</td>\n",
              "      <td>92.000</td>\n",
              "      <td>92.000</td>\n",
              "      <td>92.000</td>\n",
              "      <td>92.000</td>\n",
              "      <td>92.000</td>\n",
              "      <td>92.000</td>\n",
              "      <td>92.000</td>\n",
              "      <td>92.000</td>\n",
              "      <td>92.000</td>\n",
              "    </tr>\n",
              "    <tr>\n",
              "      <th>mean</th>\n",
              "      <td>6.790</td>\n",
              "      <td>6.799</td>\n",
              "      <td>6.871</td>\n",
              "      <td>6.906</td>\n",
              "      <td>6.874</td>\n",
              "      <td>6.754</td>\n",
              "      <td>6.808</td>\n",
              "      <td>6.930</td>\n",
              "      <td>7.139</td>\n",
              "      <td>7.075</td>\n",
              "      <td>...</td>\n",
              "      <td>7.339</td>\n",
              "      <td>7.501</td>\n",
              "      <td>7.554</td>\n",
              "      <td>7.587</td>\n",
              "      <td>7.945</td>\n",
              "      <td>7.870</td>\n",
              "      <td>7.945</td>\n",
              "      <td>7.965</td>\n",
              "      <td>9.342</td>\n",
              "      <td>10.134</td>\n",
              "    </tr>\n",
              "    <tr>\n",
              "      <th>std</th>\n",
              "      <td>1.294</td>\n",
              "      <td>1.115</td>\n",
              "      <td>1.120</td>\n",
              "      <td>1.241</td>\n",
              "      <td>1.186</td>\n",
              "      <td>1.194</td>\n",
              "      <td>1.168</td>\n",
              "      <td>1.083</td>\n",
              "      <td>1.291</td>\n",
              "      <td>1.141</td>\n",
              "      <td>...</td>\n",
              "      <td>1.206</td>\n",
              "      <td>1.243</td>\n",
              "      <td>1.140</td>\n",
              "      <td>1.131</td>\n",
              "      <td>1.238</td>\n",
              "      <td>1.086</td>\n",
              "      <td>1.083</td>\n",
              "      <td>1.410</td>\n",
              "      <td>1.532</td>\n",
              "      <td>1.832</td>\n",
              "    </tr>\n",
              "    <tr>\n",
              "      <th>min</th>\n",
              "      <td>0.000</td>\n",
              "      <td>3.771</td>\n",
              "      <td>4.288</td>\n",
              "      <td>4.223</td>\n",
              "      <td>4.470</td>\n",
              "      <td>3.299</td>\n",
              "      <td>4.081</td>\n",
              "      <td>4.697</td>\n",
              "      <td>4.537</td>\n",
              "      <td>4.645</td>\n",
              "      <td>...</td>\n",
              "      <td>4.857</td>\n",
              "      <td>4.274</td>\n",
              "      <td>5.153</td>\n",
              "      <td>5.211</td>\n",
              "      <td>4.781</td>\n",
              "      <td>5.085</td>\n",
              "      <td>5.175</td>\n",
              "      <td>4.059</td>\n",
              "      <td>5.958</td>\n",
              "      <td>5.132</td>\n",
              "    </tr>\n",
              "    <tr>\n",
              "      <th>25%</th>\n",
              "      <td>6.182</td>\n",
              "      <td>5.956</td>\n",
              "      <td>6.115</td>\n",
              "      <td>6.023</td>\n",
              "      <td>6.281</td>\n",
              "      <td>5.916</td>\n",
              "      <td>5.839</td>\n",
              "      <td>6.021</td>\n",
              "      <td>6.429</td>\n",
              "      <td>6.498</td>\n",
              "      <td>...</td>\n",
              "      <td>6.592</td>\n",
              "      <td>6.783</td>\n",
              "      <td>6.846</td>\n",
              "      <td>6.835</td>\n",
              "      <td>7.184</td>\n",
              "      <td>7.266</td>\n",
              "      <td>7.358</td>\n",
              "      <td>7.134</td>\n",
              "      <td>8.373</td>\n",
              "      <td>9.048</td>\n",
              "    </tr>\n",
              "    <tr>\n",
              "      <th>50%</th>\n",
              "      <td>6.907</td>\n",
              "      <td>6.825</td>\n",
              "      <td>6.979</td>\n",
              "      <td>6.955</td>\n",
              "      <td>6.876</td>\n",
              "      <td>6.694</td>\n",
              "      <td>6.923</td>\n",
              "      <td>7.021</td>\n",
              "      <td>7.182</td>\n",
              "      <td>7.031</td>\n",
              "      <td>...</td>\n",
              "      <td>7.298</td>\n",
              "      <td>7.559</td>\n",
              "      <td>7.540</td>\n",
              "      <td>7.452</td>\n",
              "      <td>8.090</td>\n",
              "      <td>7.848</td>\n",
              "      <td>8.067</td>\n",
              "      <td>7.995</td>\n",
              "      <td>9.323</td>\n",
              "      <td>10.090</td>\n",
              "    </tr>\n",
              "    <tr>\n",
              "      <th>75%</th>\n",
              "      <td>7.599</td>\n",
              "      <td>7.727</td>\n",
              "      <td>7.472</td>\n",
              "      <td>7.808</td>\n",
              "      <td>7.661</td>\n",
              "      <td>7.479</td>\n",
              "      <td>7.672</td>\n",
              "      <td>7.651</td>\n",
              "      <td>7.779</td>\n",
              "      <td>7.732</td>\n",
              "      <td>...</td>\n",
              "      <td>8.097</td>\n",
              "      <td>8.218</td>\n",
              "      <td>8.198</td>\n",
              "      <td>8.247</td>\n",
              "      <td>8.802</td>\n",
              "      <td>8.586</td>\n",
              "      <td>8.563</td>\n",
              "      <td>8.929</td>\n",
              "      <td>10.208</td>\n",
              "      <td>11.286</td>\n",
              "    </tr>\n",
              "    <tr>\n",
              "      <th>max</th>\n",
              "      <td>9.355</td>\n",
              "      <td>8.957</td>\n",
              "      <td>9.512</td>\n",
              "      <td>11.131</td>\n",
              "      <td>11.242</td>\n",
              "      <td>10.778</td>\n",
              "      <td>9.874</td>\n",
              "      <td>10.092</td>\n",
              "      <td>13.016</td>\n",
              "      <td>11.804</td>\n",
              "      <td>...</td>\n",
              "      <td>10.515</td>\n",
              "      <td>12.853</td>\n",
              "      <td>11.394</td>\n",
              "      <td>11.275</td>\n",
              "      <td>10.727</td>\n",
              "      <td>10.848</td>\n",
              "      <td>11.661</td>\n",
              "      <td>11.693</td>\n",
              "      <td>13.787</td>\n",
              "      <td>14.565</td>\n",
              "    </tr>\n",
              "  </tbody>\n",
              "</table>\n",
              "<p>8 rows × 22 columns</p>\n",
              "</div>\n",
              "      <button class=\"colab-df-convert\" onclick=\"convertToInteractive('df-0de8c271-828b-4735-b260-bcc343399072')\"\n",
              "              title=\"Convert this dataframe to an interactive table.\"\n",
              "              style=\"display:none;\">\n",
              "        \n",
              "  <svg xmlns=\"http://www.w3.org/2000/svg\" height=\"24px\"viewBox=\"0 0 24 24\"\n",
              "       width=\"24px\">\n",
              "    <path d=\"M0 0h24v24H0V0z\" fill=\"none\"/>\n",
              "    <path d=\"M18.56 5.44l.94 2.06.94-2.06 2.06-.94-2.06-.94-.94-2.06-.94 2.06-2.06.94zm-11 1L8.5 8.5l.94-2.06 2.06-.94-2.06-.94L8.5 2.5l-.94 2.06-2.06.94zm10 10l.94 2.06.94-2.06 2.06-.94-2.06-.94-.94-2.06-.94 2.06-2.06.94z\"/><path d=\"M17.41 7.96l-1.37-1.37c-.4-.4-.92-.59-1.43-.59-.52 0-1.04.2-1.43.59L10.3 9.45l-7.72 7.72c-.78.78-.78 2.05 0 2.83L4 21.41c.39.39.9.59 1.41.59.51 0 1.02-.2 1.41-.59l7.78-7.78 2.81-2.81c.8-.78.8-2.07 0-2.86zM5.41 20L4 18.59l7.72-7.72 1.47 1.35L5.41 20z\"/>\n",
              "  </svg>\n",
              "      </button>\n",
              "      \n",
              "  <style>\n",
              "    .colab-df-container {\n",
              "      display:flex;\n",
              "      flex-wrap:wrap;\n",
              "      gap: 12px;\n",
              "    }\n",
              "\n",
              "    .colab-df-convert {\n",
              "      background-color: #E8F0FE;\n",
              "      border: none;\n",
              "      border-radius: 50%;\n",
              "      cursor: pointer;\n",
              "      display: none;\n",
              "      fill: #1967D2;\n",
              "      height: 32px;\n",
              "      padding: 0 0 0 0;\n",
              "      width: 32px;\n",
              "    }\n",
              "\n",
              "    .colab-df-convert:hover {\n",
              "      background-color: #E2EBFA;\n",
              "      box-shadow: 0px 1px 2px rgba(60, 64, 67, 0.3), 0px 1px 3px 1px rgba(60, 64, 67, 0.15);\n",
              "      fill: #174EA6;\n",
              "    }\n",
              "\n",
              "    [theme=dark] .colab-df-convert {\n",
              "      background-color: #3B4455;\n",
              "      fill: #D2E3FC;\n",
              "    }\n",
              "\n",
              "    [theme=dark] .colab-df-convert:hover {\n",
              "      background-color: #434B5C;\n",
              "      box-shadow: 0px 1px 3px 1px rgba(0, 0, 0, 0.15);\n",
              "      filter: drop-shadow(0px 1px 2px rgba(0, 0, 0, 0.3));\n",
              "      fill: #FFFFFF;\n",
              "    }\n",
              "  </style>\n",
              "\n",
              "      <script>\n",
              "        const buttonEl =\n",
              "          document.querySelector('#df-0de8c271-828b-4735-b260-bcc343399072 button.colab-df-convert');\n",
              "        buttonEl.style.display =\n",
              "          google.colab.kernel.accessAllowed ? 'block' : 'none';\n",
              "\n",
              "        async function convertToInteractive(key) {\n",
              "          const element = document.querySelector('#df-0de8c271-828b-4735-b260-bcc343399072');\n",
              "          const dataTable =\n",
              "            await google.colab.kernel.invokeFunction('convertToInteractive',\n",
              "                                                     [key], {});\n",
              "          if (!dataTable) return;\n",
              "\n",
              "          const docLinkHtml = 'Like what you see? Visit the ' +\n",
              "            '<a target=\"_blank\" href=https://colab.research.google.com/notebooks/data_table.ipynb>data table notebook</a>'\n",
              "            + ' to learn more about interactive tables.';\n",
              "          element.innerHTML = '';\n",
              "          dataTable['output_type'] = 'display_data';\n",
              "          await google.colab.output.renderOutput(dataTable, element);\n",
              "          const docLink = document.createElement('div');\n",
              "          docLink.innerHTML = docLinkHtml;\n",
              "          element.appendChild(docLink);\n",
              "        }\n",
              "      </script>\n",
              "    </div>\n",
              "  </div>\n",
              "  "
            ]
          },
          "metadata": {},
          "execution_count": 5
        }
      ]
    },
    {
      "cell_type": "markdown",
      "source": [
        "# C - Calcule e armazene o vetor de médias por Município (media_mun) (92) e o vetor de médias por Ano (media_ano) (22)"
      ],
      "metadata": {
        "id": "z5U1ElInSpPu"
      }
    },
    {
      "cell_type": "code",
      "source": [
        "media_mun = df.mean ((1))  # CALCULA A MÉDIA POR LINHA (MUNICÍPIOS) // Parametro (1) calcula por LINHA\n",
        "print(\"media_mun \\n{}\".format(media_mun)) #IMPRIME VETOR"
      ],
      "metadata": {
        "colab": {
          "base_uri": "https://localhost:8080/"
        },
        "id": "Lqk7-oneh3ds",
        "outputId": "035e3116-acc5-4643-dedc-f31764f1c117"
      },
      "execution_count": null,
      "outputs": [
        {
          "output_type": "stream",
          "name": "stdout",
          "text": [
            "media_mun \n",
            "0    5.299\n",
            "1    7.363\n",
            "2    7.906\n",
            "3    7.194\n",
            "4    6.364\n",
            "      ... \n",
            "87   8.312\n",
            "88   8.512\n",
            "89   5.961\n",
            "90   8.987\n",
            "91   7.578\n",
            "Length: 92, dtype: float64\n"
          ]
        },
        {
          "output_type": "stream",
          "name": "stderr",
          "text": [
            "<ipython-input-7-cfaf3af13d4a>:1: FutureWarning: Dropping of nuisance columns in DataFrame reductions (with 'numeric_only=None') is deprecated; in a future version this will raise TypeError.  Select only valid columns before calling the reduction.\n",
            "  media_mun = df.mean ((1))  # CALCULA A MÉDIA POR LINHA (MUNICÍPIOS) // Parametro (1) calcula por LINHA\n"
          ]
        }
      ]
    },
    {
      "cell_type": "code",
      "source": [
        "media_ano = df.mean((0))  # CALCULA A MÉDIA POR COLUNA (ANO) // Parametro (0) calcula por COLUNA\n",
        "print(\"media_ano \\n{}\".format(media_ano))  #IMPRIME VETOR"
      ],
      "metadata": {
        "colab": {
          "base_uri": "https://localhost:8080/"
        },
        "id": "CxOIiRGlkdzb",
        "outputId": "8d9b017e-cf53-4908-f45f-c741913d2c13"
      },
      "execution_count": null,
      "outputs": [
        {
          "output_type": "stream",
          "name": "stdout",
          "text": [
            "media_ano \n",
            "2000    6.790\n",
            "2001    6.799\n",
            "2002    6.871\n",
            "2003    6.906\n",
            "2004    6.874\n",
            "2005    6.754\n",
            "2006    6.808\n",
            "2007    6.930\n",
            "2008    7.139\n",
            "2009    7.075\n",
            "2010    7.272\n",
            "2011    7.370\n",
            "2012    7.339\n",
            "2013    7.501\n",
            "2014    7.554\n",
            "2015    7.587\n",
            "2016    7.945\n",
            "2017    7.870\n",
            "2018    7.945\n",
            "2019    7.965\n",
            "2020    9.342\n",
            "2021   10.134\n",
            "dtype: float64\n"
          ]
        },
        {
          "output_type": "stream",
          "name": "stderr",
          "text": [
            "<ipython-input-6-df88f5566fb5>:1: FutureWarning: The default value of numeric_only in DataFrame.mean is deprecated. In a future version, it will default to False. In addition, specifying 'numeric_only=None' is deprecated. Select only valid columns or specify the value of numeric_only to silence this warning.\n",
            "  media_ano = df.mean((0))  # CALCULA A MÉDIA POR COLUNA (ANO) // Parametro (0) calcula por COLUNA\n"
          ]
        }
      ]
    },
    {
      "cell_type": "markdown",
      "source": [
        "## D - Realize uma Análise Exploratória de Dados para os vetores de médias por município e por ano"
      ],
      "metadata": {
        "id": "0VGAn7KEo3q0"
      }
    },
    {
      "cell_type": "markdown",
      "source": [
        "## Análise Numérica"
      ],
      "metadata": {
        "id": "kNRx5w8v1mid"
      }
    },
    {
      "cell_type": "code",
      "source": [
        "def analise_numerica(x):    # FUNÇÃO QUE RECEBE VETOR DE MÉDIAS E RETORNA ANÁLISE NUMÉRICA\n",
        "  media = x.mean() # MÉDIA\n",
        "  mediana = x.median()  # MEDIANA\n",
        "  q1 = x.quantile(0.25) # 1º QUARTIL\n",
        "  q2 = x.quantile(0.5) # 2º QUARTIL\n",
        "  q3 = x.quantile(0.75) # 3º QUARTIL\n",
        "  var = x.var() # VARIÂNCIA\n",
        "  dp = x.std() # DESVIO PADRÃO\n",
        "  cv = dp/media # COEFICIENTE DE VARIAÇÃO\n",
        "  count = x.count() #TAMANHO DO VETOR\n",
        "  \n",
        "  print (\"Média: \" + str('%.3f' % media))\n",
        "  print (\"Mediana: \" + str('%.3f' % mediana))\n",
        "  print (\"1º Quartil: \" + str('%.3f' % q1))\n",
        "  print (\"2º Quartil: \" + str('%.3f' % q2))\n",
        "  print (\"3º Quartil: \" + str('%.3f' % q3))\n",
        "  print (\"Variância: \" + str('%.3f' % var))\n",
        "  print (\"Desvio Padrão: \" + str('%.3f' % dp))\n",
        "  print (\"Coeficiente de Variação: \" + str('%.3f' % cv))\n",
        "  print (\"Tamanho do vetor: \" + str(count))\n",
        "\n"
      ],
      "metadata": {
        "id": "uS8QT5XTyvk-"
      },
      "execution_count": null,
      "outputs": []
    },
    {
      "cell_type": "markdown",
      "source": [
        "### Por Município"
      ],
      "metadata": {
        "id": "A659pB6G17d0"
      }
    },
    {
      "cell_type": "code",
      "source": [
        "analise_numerica(media_mun) # ANÁLISE NUMÉRICA DAS MÉDIAS POR MUNICÍPIO"
      ],
      "metadata": {
        "colab": {
          "base_uri": "https://localhost:8080/"
        },
        "id": "Yh24Xrr30kaX",
        "outputId": "76a576d5-9a8b-4c70-cfeb-73bb5366a8c1"
      },
      "execution_count": null,
      "outputs": [
        {
          "output_type": "stream",
          "name": "stdout",
          "text": [
            "Média: 7.490\n",
            "Mediana: 7.546\n",
            "1º Quartil: 6.863\n",
            "2º Quartil: 7.546\n",
            "3º Quartil: 8.093\n",
            "Variância: 1.028\n",
            "Desvio Padrão: 1.014\n",
            "Coeficiente de Variação: 0.135\n",
            "Tamanho do vetor: 92\n"
          ]
        }
      ]
    },
    {
      "cell_type": "markdown",
      "source": [
        "### Por Ano"
      ],
      "metadata": {
        "id": "ajHDtf9S2ST1"
      }
    },
    {
      "cell_type": "code",
      "source": [
        "analise_numerica(media_ano) # ANÁLISE NUMÉRICA DAS MÉDIAS POR ANO"
      ],
      "metadata": {
        "id": "UPLIAtxS1-6X",
        "colab": {
          "base_uri": "https://localhost:8080/"
        },
        "outputId": "01b467f4-db00-4401-fa70-4851a762f05d"
      },
      "execution_count": null,
      "outputs": [
        {
          "output_type": "stream",
          "name": "stdout",
          "text": [
            "Média: 7.490\n",
            "Mediana: 7.305\n",
            "1º Quartil: 6.882\n",
            "2º Quartil: 7.305\n",
            "3º Quartil: 7.800\n",
            "Variância: 0.714\n",
            "Desvio Padrão: 0.845\n",
            "Coeficiente de Variação: 0.113\n",
            "Tamanho do vetor: 22\n"
          ]
        }
      ]
    },
    {
      "cell_type": "markdown",
      "source": [
        "## Análise Gráfica\n",
        "\n"
      ],
      "metadata": {
        "id": "KXpzqQkQ1icG"
      }
    },
    {
      "cell_type": "markdown",
      "source": [
        "### Média por município"
      ],
      "metadata": {
        "id": "ZiCPAZCH1_pJ"
      }
    },
    {
      "cell_type": "code",
      "source": [
        "plt.boxplot(media_mun)\n",
        "plt.title('Média por Município')\n",
        "plt.xlabel(\"Município\")\n",
        "plt.ylabel(\"Taxa Bruta Mortalidade\")\n",
        "plt.show()"
      ],
      "metadata": {
        "colab": {
          "base_uri": "https://localhost:8080/",
          "height": 296
        },
        "id": "3HZ_GH-r3XvQ",
        "outputId": "21d26894-12fa-4988-eea1-0ffe641309a8"
      },
      "execution_count": null,
      "outputs": [
        {
          "output_type": "display_data",
          "data": {
            "text/plain": [
              "<Figure size 432x288 with 1 Axes>"
            ],
            "image/png": "[encoded data removed]"
          },
          "metadata": {
            "needs_background": "light"
          }
        }
      ]
    },
    {
      "cell_type": "code",
      "source": [
        "plt.hist(media_mun)\n",
        "plt.title('Média por Município')\n",
        "plt.xlabel(\"Taxa Bruta Mortalidade\")\n",
        "plt.ylabel(\"Frequência\")\n",
        "plt.show()"
      ],
      "metadata": {
        "id": "_m4bNLakx0za",
        "colab": {
          "base_uri": "https://localhost:8080/",
          "height": 295
        },
        "outputId": "b41660a3-7989-4279-9d33-95fd810c4cd3"
      },
      "execution_count": null,
      "outputs": [
        {
          "output_type": "display_data",
          "data": {
            "text/plain": [
              "<Figure size 432x288 with 1 Axes>"
            ],
            "image/png": "[encoded data removed]"
          },
          "metadata": {
            "needs_background": "light"
          }
        }
      ]
    },
    {
      "cell_type": "markdown",
      "source": [
        "### Média por ano"
      ],
      "metadata": {
        "id": "_8Kwk4mS1rSd"
      }
    },
    {
      "cell_type": "code",
      "source": [
        "plt.boxplot(media_ano)\n",
        "plt.xlabel(\"Ano\")\n",
        "plt.ylabel(\"Taxa Bruta Mortalidade\")\n",
        "plt.show()"
      ],
      "metadata": {
        "colab": {
          "base_uri": "https://localhost:8080/",
          "height": 279
        },
        "id": "mgh5x4cN8mRc",
        "outputId": "2fab4c97-a4c3-4108-8a30-dbb769d17b8f"
      },
      "execution_count": null,
      "outputs": [
        {
          "output_type": "display_data",
          "data": {
            "text/plain": [
              "<Figure size 432x288 with 1 Axes>"
            ],
            "image/png": "[encoded data removed]"
          },
          "metadata": {
            "needs_background": "light"
          }
        }
      ]
    },
    {
      "cell_type": "code",
      "source": [
        "plt.hist(media_ano)\n",
        "plt.title('Média por Ano')\n",
        "plt.xlabel(\"Taxa Bruta Mortalidade\")\n",
        "plt.ylabel(\"Frequência\")\n",
        "plt.show()"
      ],
      "metadata": {
        "id": "tBnS8V-4yO56",
        "colab": {
          "base_uri": "https://localhost:8080/",
          "height": 295
        },
        "outputId": "b92a3cd5-45f0-4472-9d24-88f573a19f54"
      },
      "execution_count": null,
      "outputs": [
        {
          "output_type": "display_data",
          "data": {
            "text/plain": [
              "<Figure size 432x288 with 1 Axes>"
            ],
            "image/png": "[encoded data removed]"
          },
          "metadata": {
            "needs_background": "light"
          }
        }
      ]
    },
    {
      "cell_type": "markdown",
      "source": [
        "## Observações: \n",
        "\n",
        "> Com o Boxplot, os outliers ficam bem visíveis\n",
        "\n",
        "> O Histograma facilita na visualização da média e do desvio padrão\n",
        "\n",
        "> O Histograma é mais intuitivo do que o Boxplot\n",
        "\n",
        "\n",
        "\n"
      ],
      "metadata": {
        "id": "KSAYD2qy9Ofy"
      }
    },
    {
      "cell_type": "markdown",
      "source": [
        "\n",
        "## E - Determine os valores dos outliers para cada variável (media_mun e media_ano), identifique e exiba os municípios e os anos que são outliers.\n"
      ],
      "metadata": {
        "id": "4FR4zCFW_wbJ"
      }
    },
    {
      "cell_type": "markdown",
      "source": [
        "Variável media_ano"
      ],
      "metadata": {
        "id": "Nhqj5qJmmKf-"
      }
    },
    {
      "cell_type": "code",
      "source": [
        "def outliers (x):\n",
        "  q1 = x.quantile(0.25) # 1º QUARTIL\n",
        "  q3 = x.quantile(0.75) # 3º QUARTIL\n",
        "  lim_inf = q1 - 1.5*(q3-q1)\n",
        "  lim_sup = q3 + 1.5*(q3-q1)\n",
        "\n",
        "  print(\"Limite Inferior (lim_inf): {:.3f}\".format(lim_inf))\n",
        "  print(\"Limite Superior (lim_sup): {:.3f}\".format(lim_sup))\n",
        "  print()\n",
        "  print(\"OUTLIERS\")\n",
        "  for i in x.index:\n",
        "      if (x.loc[i,] < lim_inf) or (x.loc[i,] > lim_sup):\n",
        "         print(\"Ano: {:.4s}\".format(i),\"- Média: {:.3f}\".format(x.loc[i,]))\n",
        "\n",
        "outliers(media_ano)"
      ],
      "metadata": {
        "id": "jEspbBafAVzs",
        "colab": {
          "base_uri": "https://localhost:8080/"
        },
        "outputId": "579bb231-1510-448c-8f67-ed035b7bf942"
      },
      "execution_count": null,
      "outputs": [
        {
          "output_type": "stream",
          "name": "stdout",
          "text": [
            "Limite Inferior (lim_inf): 5.506\n",
            "Limite Superior (lim_sup): 9.176\n",
            "\n",
            "OUTLIERS\n",
            "Ano: 2020 - Média: 9.342\n",
            "Ano: 2021 - Média: 10.134\n"
          ]
        }
      ]
    },
    {
      "cell_type": "markdown",
      "source": [
        "Variável media_mun"
      ],
      "metadata": {
        "id": "vRQ6ko29muU1"
      }
    },
    {
      "cell_type": "code",
      "source": [
        "def outliers (x):\n",
        "  q1 = x.quantile(0.25) # 1º QUARTIL\n",
        "  q3 = x.quantile(0.75) # 3º QUARTIL\n",
        "  lim_inf = q1 - 1.5*(q3-q1)\n",
        "  lim_sup = q3 + 1.5*(q3-q1)\n",
        "\n",
        "  print(\"Limite Inferior (lim_inf): {:.3f}\".format(lim_inf))\n",
        "  print(\"Limite Superior (lim_sup): {:.3f}\".format(lim_sup))\n",
        "  print()\n",
        "  print(\"OUTLIERS\")\n",
        "  for i in x.index:\n",
        "      if (x.loc[i,] < lim_inf) or (x.loc[i,] > lim_sup):\n",
        "        print(\"Município: {:}\".format(df.loc[i,'Município']), \"- Média: {:.3f}\".format(media_mun[i]))\n",
        "\n",
        "outliers(media_mun)"
      ],
      "metadata": {
        "colab": {
          "base_uri": "https://localhost:8080/"
        },
        "id": "kIViIqn8iqyK",
        "outputId": "73077637-79e6-4c45-a5d3-af7ea59e2c37"
      },
      "execution_count": null,
      "outputs": [
        {
          "output_type": "stream",
          "name": "stdout",
          "text": [
            "Limite Inferior (lim_inf): 5.019\n",
            "Limite Superior (lim_sup): 9.938\n",
            "\n",
            "OUTLIERS\n",
            "Município: Macuco - Média: 10.671\n"
          ]
        }
      ]
    },
    {
      "cell_type": "markdown",
      "source": [
        "\n",
        "## F - Crie uma rotina para classificar a taxa média de mortalidade por município (media_mun) em 4 categorias (1-2-3-4) correspondentes aos quartis. Adicione esse indicador a última coluna do Data Frame original.\n"
      ],
      "metadata": {
        "id": "OFlDSAAZ_7HN"
      }
    },
    {
      "cell_type": "code",
      "source": [
        "q1 = media_mun.quantile(0.25) # 1º QUARTIL\n",
        "q2 = media_mun.quantile(0.5)  # 2º QUARTIL\n",
        "q3 = media_mun.quantile(0.75) # 3º QUARTIL\n",
        "q4 = media_mun.quantile(1)    # 4º QUARTIL\n",
        "diferenca = q4-q1\n",
        "\n",
        "print('Primeiro quartil ', q1)\n",
        "print('Segundo quartil', q2)\n",
        "print('Terceiro quartil ', q3)\n",
        "print('Quarto quartil', q4)\n",
        "print('Diferença interquartílica ', diferenca)\n",
        "print()\n",
        "q1_vet = []\n",
        "q2_vet = []\n",
        "q3_vet = []\n",
        "q4_vet = []\n",
        "\n",
        "tabela_nova = []\n",
        "\n",
        "for x in media_mun.values:\n",
        "    if x <= q1:\n",
        "        #print(f\"{x} pertence ao q1 \")\n",
        "        q1_vet.append(x)\n",
        "        tabela_nova.append(\"q1\")\n",
        "    elif q1 < x <= q2:\n",
        "        #print(f\"{x} pertence ao q2\")\n",
        "        q2_vet.append(x)\n",
        "        tabela_nova.append(\"q2\")\n",
        "    elif q2 < x <= q3:\n",
        "        #print(f\"{x} pertence ao q3\")\n",
        "        q3_vet.append(x)\n",
        "        tabela_nova.append(\"q3\")\n",
        "    else:\n",
        "        #print(f\"{x} pertence ao q4\")\n",
        "        q4_vet.append(x)\n",
        "        tabela_nova.append(\"q4\")\n",
        "\n",
        "df['quartile'] = tabela_nova\n",
        "print(df)\n",
        "print()"
      ],
      "metadata": {
        "id": "ADNoh-rp5ea_",
        "colab": {
          "base_uri": "https://localhost:8080/"
        },
        "outputId": "67b80527-ea8c-43cd-b0c9-70cb0a226e4d"
      },
      "execution_count": 94,
      "outputs": [
        {
          "output_type": "stream",
          "name": "stdout",
          "text": [
            "Primeiro quartil  6.863482015598585\n",
            "Segundo quartil 7.546078370975058\n",
            "Terceiro quartil  8.09311207521863\n",
            "Quarto quartil 10.670853047328585\n",
            "Diferença interquartílica  3.80737103173\n",
            "\n",
            "             Município  2000  2001  2002  2003  2004  2005  2006  2007  2008  \\\n",
            "0       Angra dos Reis 4.688 5.494 5.456 4.961 4.921 5.461 4.899 4.804 5.050   \n",
            "1              Aperibé 6.461 8.036 7.586 5.600 6.337 7.577 5.741 6.030 7.106   \n",
            "2             Araruama 6.646 6.817 6.897 6.696 7.772 6.699 7.303 7.616 7.920   \n",
            "3                Areal 5.727 5.337 6.973 5.741 7.142 5.397 7.675 6.954 7.484   \n",
            "4   Armação dos Búzios 5.960 4.814 4.288 5.061 5.419 5.500 5.666 5.510 5.552   \n",
            "..                 ...   ...   ...   ...   ...   ...   ...   ...   ...   ...   \n",
            "87           Três Rios 7.157 7.824 8.125 7.960 8.061 8.411 7.381 7.838 7.647   \n",
            "88             Valença 7.591 7.857 8.718 8.087 8.352 7.723 7.990 7.809 8.585   \n",
            "89           Varre-Sai 8.089 4.376 5.952 5.485 6.525 5.284 5.636 5.761 6.737   \n",
            "90           Vassouras 9.355 8.212 9.169 9.961 7.868 7.119 8.032 8.728 8.456   \n",
            "91       Volta Redonda 6.691 6.419 6.636 6.650 6.904 6.598 6.814 6.951 7.186   \n",
            "\n",
            "    ...  2013  2014  2015  2016  2017  2018  2019   2020   2021  quartile  \n",
            "0   ... 5.380 5.331 5.401 5.228 5.312 5.768 5.471  6.573  6.380        q1  \n",
            "1   ... 8.847 8.632 7.881 8.042 7.853 8.526 5.443  8.319  9.411        q2  \n",
            "2   ... 8.297 8.272 8.532 8.445 8.660 8.034 8.421  9.234 10.998        q3  \n",
            "3   ... 6.779 7.964 7.317 7.092 7.843 8.099 8.431  8.604 10.498        q2  \n",
            "4   ... 6.538 7.050 6.863 7.821 7.272 7.491 7.795  8.556  9.572        q1  \n",
            "..  ...   ...   ...   ...   ...   ...   ...   ...    ...    ...       ...  \n",
            "87  ... 8.600 7.552 7.516 8.364 8.558 8.496 9.474 10.019 11.042        q4  \n",
            "88  ... 9.203 8.300 8.243 8.694 8.827 8.285 9.187  8.963 11.279        q4  \n",
            "89  ... 5.009 5.646 6.821 4.781 6.589 6.061 5.727  7.473  5.132        q1  \n",
            "90  ... 9.282 9.257 8.427 9.143 9.068 8.583 9.215 10.059 12.593        q4  \n",
            "91  ... 7.617 7.541 7.648 7.879 7.680 8.379 8.575  9.873 11.307        q3  \n",
            "\n",
            "[92 rows x 24 columns]\n",
            "\n",
            "23\n",
            "23\n",
            "23\n",
            "23\n"
          ]
        }
      ]
    },
    {
      "cell_type": "markdown",
      "source": [
        "\n",
        "## G - Gere indicadores numéricos e gráficos que permitam avaliar a distribuição desse indicador. Lembre-se que é uma variável discreta… "
      ],
      "metadata": {
        "id": "GUbTc6lb__iO"
      }
    },
    {
      "cell_type": "code",
      "source": [
        "import plotly.express as px\n",
        "tabela_q = df[['Município','quartile']]\n",
        "\n",
        "print (tabela_q) # IMPRESSÃO DA TABELA COM OS MUNICÍPIOS E OS QUARTIS RESPECTIVOS\n",
        "print()\n",
        "\n",
        "print(\"Tamanho de Q1:\",len(q1_vet)) # QUANTIDADE DE MÚNICÍPIOS COM O INDICADOR Q1 \n",
        "print(\"Tamanho de Q2:\",len(q2_vet)) # QUANTIDADE DE MÚNICÍPIOS COM O INDICADOR Q2 \n",
        "print(\"Tamanho de Q3:\",len(q3_vet)) # QUANTIDADE DE MÚNICÍPIOS COM O INDICADOR Q3 \n",
        "print(\"Tamanho de Q4:\",len(q4_vet)) # QUANTIDADE DE MÚNICÍPIOS COM O INDICADOR Q4 \n",
        "print()\n",
        "\n",
        "plt.hist(df['quartile'])\n",
        "plt.title('Distribuição dos Quartis')\n",
        "plt.xlabel(\"Quartil\")\n",
        "plt.ylabel(\"Frequência\")\n",
        "plt.show()\n",
        "\n",
        "print()\n",
        "\n",
        "grafico = px.box(tabela_q, x=tabela_q['Município'], y=tabela_q['quartile']) # GRÁFICO DE DISPERSÃO DOS QUARTIS\n",
        "grafico.show()"
      ],
      "metadata": {
        "id": "CRk7oNMz5fHe",
        "colab": {
          "base_uri": "https://localhost:8080/",
          "height": 1000
        },
        "outputId": "4c7786e1-0287-462c-9b03-42fccfc50b4d"
      },
      "execution_count": 109,
      "outputs": [
        {
          "output_type": "stream",
          "name": "stdout",
          "text": [
            "             Município quartile\n",
            "0       Angra dos Reis       q1\n",
            "1              Aperibé       q2\n",
            "2             Araruama       q3\n",
            "3                Areal       q2\n",
            "4   Armação dos Búzios       q1\n",
            "..                 ...      ...\n",
            "87           Três Rios       q4\n",
            "88             Valença       q4\n",
            "89           Varre-Sai       q1\n",
            "90           Vassouras       q4\n",
            "91       Volta Redonda       q3\n",
            "\n",
            "[92 rows x 2 columns]\n",
            "\n",
            "Tamanho de Q1: 23\n",
            "Tamanho de Q2: 23\n",
            "Tamanho de Q3: 23\n",
            "Tamanho de Q4: 23\n",
            "\n"
          ]
        },
        {
          "output_type": "display_data",
          "data": {
            "text/plain": [
              "<Figure size 432x288 with 1 Axes>"
            ],
            "image/png": "[encoded data removed]"
          },
          "metadata": {
            "needs_background": "light"
          }
        },
        {
          "output_type": "stream",
          "name": "stdout",
          "text": [
            "\n"
          ]
        },
        {
          "output_type": "display_data",
          "data": {
            "text/html": [
              "<html>\n",
              "<head><meta charset=\"utf-8\" /></head>\n",
              "<body>\n",
              "    <div>            <script src=\"https://cdnjs.cloudflare.com/ajax/libs/mathjax/2.7.5/MathJax.js?config=TeX-AMS-MML_SVG\"></script><script type=\"text/javascript\">if (window.MathJax) {MathJax.Hub.Config({SVG: {font: \"STIX-Web\"}});}</script>                <script type=\"text/javascript\">window.PlotlyConfig = {MathJaxConfig: 'local'};</script>\n",
              "        <script src=\"https://cdn.plot.ly/plotly-2.8.3.min.js\"></script>                <div id=\"5a638709-6d7f-424b-ad37-09dca1315904\" class=\"plotly-graph-div\" style=\"height:525px; width:100%;\"></div>            <script type=\"text/javascript\">                                    window.PLOTLYENV=window.PLOTLYENV || {};                                    if (document.getElementById(\"5a638709-6d7f-424b-ad37-09dca1315904\")) {                    Plotly.newPlot(                        \"5a638709-6d7f-424b-ad37-09dca1315904\",                        [{\"alignmentgroup\":\"True\",\"hovertemplate\":\"Munic\\u00edpio=%{x}<br>quartile=%{y}<extra></extra>\",\"legendgroup\":\"\",\"marker\":{\"color\":\"#636efa\"},\"name\":\"\",\"notched\":false,\"offsetgroup\":\"\",\"orientation\":\"v\",\"showlegend\":false,\"x\":[\"Angra dos Reis\",\"Aperib\\u00e9\",\"Araruama\",\"Areal\",\"Arma\\u00e7\\u00e3o dos B\\u00fazios\",\"Arraial do Cabo\",\"Barra do Pira\\u00ed\",\"Barra Mansa\",\"Belford Roxo\",\"Bom Jardim\",\"Bom Jesus do Itabapoana\",\"Cabo Frio\",\"Cachoeiras de Macacu\",\"Cambuci\",\"Campos dos Goytacazes\",\"Cantagalo\",\"Carapebus\",\"Cardoso Moreira\",\"Carmo\",\"Casimiro de Abreu\",\"Comendador Levy Gasparian\",\"Concei\\u00e7\\u00e3o de Macabu\",\"Cordeiro\",\"Duas Barras\",\"Duque de Caxias\",\"Engenheiro Paulo de Frontin\",\"Guapimirim\",\"Iguaba Grande\",\"Itabora\\u00ed\",\"Itagua\\u00ed\",\"Italva\",\"Itaocara\",\"Itaperuna\",\"Itatiaia\",\"Japeri\",\"Laje do Muria\\u00e9\",\"Maca\\u00e9\",\"Macuco\",\"Mag\\u00e9\",\"Mangaratiba\",\"Maric\\u00e1\",\"Mendes\",\"Mesquita\",\"Miguel Pereira\",\"Miracema\",\"Natividade\",\"Nil\\u00f3polis\",\"Niter\\u00f3i\",\"Nova Friburgo\",\"Nova Igua\\u00e7u\",\"Paracambi\",\"Para\\u00edba do Sul\",\"Paraty\",\"Paty do Alferes\",\"Petr\\u00f3polis\",\"Pinheiral\",\"Pira\\u00ed\",\"Porci\\u00fancula\",\"Porto Real\",\"Quatis\",\"Queimados\",\"Quissam\\u00e3\",\"Resende\",\"Rio Bonito\",\"Rio Claro\",\"Rio das Flores\",\"Rio das Ostras\",\"Rio de Janeiro\",\"Santa Maria Madalena\",\"Santo Ant\\u00f4nio de P\\u00e1dua\",\"S\\u00e3o Fid\\u00e9lis\",\"S\\u00e3o Francisco de Itabapoana\",\"S\\u00e3o Gon\\u00e7alo\",\"S\\u00e3o Jo\\u00e3o da Barra\",\"S\\u00e3o Jo\\u00e3o de Meriti\",\"S\\u00e3o Jos\\u00e9 de Ub\\u00e1\",\"S\\u00e3o Jos\\u00e9 do Vale do Rio Preto\",\"S\\u00e3o Pedro da Aldeia\",\"S\\u00e3o Sebasti\\u00e3o do Alto\",\"Sapucaia\",\"Saquarema\",\"Serop\\u00e9dica\",\"Silva Jardim\",\"Sumidouro\",\"Tangu\\u00e1\",\"Teres\\u00f3polis\",\"Trajano de Moraes\",\"Tr\\u00eas Rios\",\"Valen\\u00e7a\",\"Varre-Sai\",\"Vassouras\",\"Volta Redonda\"],\"x0\":\" \",\"xaxis\":\"x\",\"y\":[\"q1\",\"q2\",\"q3\",\"q2\",\"q1\",\"q2\",\"q3\",\"q2\",\"q2\",\"q3\",\"q4\",\"q1\",\"q2\",\"q4\",\"q3\",\"q4\",\"q1\",\"q4\",\"q3\",\"q1\",\"q2\",\"q2\",\"q2\",\"q1\",\"q2\",\"q4\",\"q1\",\"q4\",\"q2\",\"q2\",\"q4\",\"q4\",\"q3\",\"q1\",\"q1\",\"q4\",\"q1\",\"q4\",\"q3\",\"q3\",\"q2\",\"q4\",\"q3\",\"q4\",\"q4\",\"q4\",\"q4\",\"q4\",\"q3\",\"q3\",\"q3\",\"q3\",\"q1\",\"q3\",\"q4\",\"q1\",\"q2\",\"q2\",\"q1\",\"q1\",\"q3\",\"q1\",\"q1\",\"q2\",\"q2\",\"q2\",\"q1\",\"q4\",\"q3\",\"q4\",\"q4\",\"q2\",\"q2\",\"q3\",\"q3\",\"q2\",\"q1\",\"q1\",\"q3\",\"q3\",\"q3\",\"q1\",\"q2\",\"q1\",\"q1\",\"q3\",\"q2\",\"q4\",\"q4\",\"q1\",\"q4\",\"q3\"],\"y0\":\" \",\"yaxis\":\"y\",\"type\":\"box\"}],                        {\"template\":{\"data\":{\"bar\":[{\"error_x\":{\"color\":\"#2a3f5f\"},\"error_y\":{\"color\":\"#2a3f5f\"},\"marker\":{\"line\":{\"color\":\"#E5ECF6\",\"width\":0.5},\"pattern\":{\"fillmode\":\"overlay\",\"size\":10,\"solidity\":0.2}},\"type\":\"bar\"}],\"barpolar\":[{\"marker\":{\"line\":{\"color\":\"#E5ECF6\",\"width\":0.5},\"pattern\":{\"fillmode\":\"overlay\",\"size\":10,\"solidity\":0.2}},\"type\":\"barpolar\"}],\"carpet\":[{\"aaxis\":{\"endlinecolor\":\"#2a3f5f\",\"gridcolor\":\"white\",\"linecolor\":\"white\",\"minorgridcolor\":\"white\",\"startlinecolor\":\"#2a3f5f\"},\"baxis\":{\"endlinecolor\":\"#2a3f5f\",\"gridcolor\":\"white\",\"linecolor\":\"white\",\"minorgridcolor\":\"white\",\"startlinecolor\":\"#2a3f5f\"},\"type\":\"carpet\"}],\"choropleth\":[{\"colorbar\":{\"outlinewidth\":0,\"ticks\":\"\"},\"type\":\"choropleth\"}],\"contour\":[{\"colorbar\":{\"outlinewidth\":0,\"ticks\":\"\"},\"colorscale\":[[0.0,\"#0d0887\"],[0.1111111111111111,\"#46039f\"],[0.2222222222222222,\"#7201a8\"],[0.3333333333333333,\"#9c179e\"],[0.4444444444444444,\"#bd3786\"],[0.5555555555555556,\"#d8576b\"],[0.6666666666666666,\"#ed7953\"],[0.7777777777777778,\"#fb9f3a\"],[0.8888888888888888,\"#fdca26\"],[1.0,\"#f0f921\"]],\"type\":\"contour\"}],\"contourcarpet\":[{\"colorbar\":{\"outlinewidth\":0,\"ticks\":\"\"},\"type\":\"contourcarpet\"}],\"heatmap\":[{\"colorbar\":{\"outlinewidth\":0,\"ticks\":\"\"},\"colorscale\":[[0.0,\"#0d0887\"],[0.1111111111111111,\"#46039f\"],[0.2222222222222222,\"#7201a8\"],[0.3333333333333333,\"#9c179e\"],[0.4444444444444444,\"#bd3786\"],[0.5555555555555556,\"#d8576b\"],[0.6666666666666666,\"#ed7953\"],[0.7777777777777778,\"#fb9f3a\"],[0.8888888888888888,\"#fdca26\"],[1.0,\"#f0f921\"]],\"type\":\"heatmap\"}],\"heatmapgl\":[{\"colorbar\":{\"outlinewidth\":0,\"ticks\":\"\"},\"colorscale\":[[0.0,\"#0d0887\"],[0.1111111111111111,\"#46039f\"],[0.2222222222222222,\"#7201a8\"],[0.3333333333333333,\"#9c179e\"],[0.4444444444444444,\"#bd3786\"],[0.5555555555555556,\"#d8576b\"],[0.6666666666666666,\"#ed7953\"],[0.7777777777777778,\"#fb9f3a\"],[0.8888888888888888,\"#fdca26\"],[1.0,\"#f0f921\"]],\"type\":\"heatmapgl\"}],\"histogram\":[{\"marker\":{\"pattern\":{\"fillmode\":\"overlay\",\"size\":10,\"solidity\":0.2}},\"type\":\"histogram\"}],\"histogram2d\":[{\"colorbar\":{\"outlinewidth\":0,\"ticks\":\"\"},\"colorscale\":[[0.0,\"#0d0887\"],[0.1111111111111111,\"#46039f\"],[0.2222222222222222,\"#7201a8\"],[0.3333333333333333,\"#9c179e\"],[0.4444444444444444,\"#bd3786\"],[0.5555555555555556,\"#d8576b\"],[0.6666666666666666,\"#ed7953\"],[0.7777777777777778,\"#fb9f3a\"],[0.8888888888888888,\"#fdca26\"],[1.0,\"#f0f921\"]],\"type\":\"histogram2d\"}],\"histogram2dcontour\":[{\"colorbar\":{\"outlinewidth\":0,\"ticks\":\"\"},\"colorscale\":[[0.0,\"#0d0887\"],[0.1111111111111111,\"#46039f\"],[0.2222222222222222,\"#7201a8\"],[0.3333333333333333,\"#9c179e\"],[0.4444444444444444,\"#bd3786\"],[0.5555555555555556,\"#d8576b\"],[0.6666666666666666,\"#ed7953\"],[0.7777777777777778,\"#fb9f3a\"],[0.8888888888888888,\"#fdca26\"],[1.0,\"#f0f921\"]],\"type\":\"histogram2dcontour\"}],\"mesh3d\":[{\"colorbar\":{\"outlinewidth\":0,\"ticks\":\"\"},\"type\":\"mesh3d\"}],\"parcoords\":[{\"line\":{\"colorbar\":{\"outlinewidth\":0,\"ticks\":\"\"}},\"type\":\"parcoords\"}],\"pie\":[{\"automargin\":true,\"type\":\"pie\"}],\"scatter\":[{\"marker\":{\"colorbar\":{\"outlinewidth\":0,\"ticks\":\"\"}},\"type\":\"scatter\"}],\"scatter3d\":[{\"line\":{\"colorbar\":{\"outlinewidth\":0,\"ticks\":\"\"}},\"marker\":{\"colorbar\":{\"outlinewidth\":0,\"ticks\":\"\"}},\"type\":\"scatter3d\"}],\"scattercarpet\":[{\"marker\":{\"colorbar\":{\"outlinewidth\":0,\"ticks\":\"\"}},\"type\":\"scattercarpet\"}],\"scattergeo\":[{\"marker\":{\"colorbar\":{\"outlinewidth\":0,\"ticks\":\"\"}},\"type\":\"scattergeo\"}],\"scattergl\":[{\"marker\":{\"colorbar\":{\"outlinewidth\":0,\"ticks\":\"\"}},\"type\":\"scattergl\"}],\"scattermapbox\":[{\"marker\":{\"colorbar\":{\"outlinewidth\":0,\"ticks\":\"\"}},\"type\":\"scattermapbox\"}],\"scatterpolar\":[{\"marker\":{\"colorbar\":{\"outlinewidth\":0,\"ticks\":\"\"}},\"type\":\"scatterpolar\"}],\"scatterpolargl\":[{\"marker\":{\"colorbar\":{\"outlinewidth\":0,\"ticks\":\"\"}},\"type\":\"scatterpolargl\"}],\"scatterternary\":[{\"marker\":{\"colorbar\":{\"outlinewidth\":0,\"ticks\":\"\"}},\"type\":\"scatterternary\"}],\"surface\":[{\"colorbar\":{\"outlinewidth\":0,\"ticks\":\"\"},\"colorscale\":[[0.0,\"#0d0887\"],[0.1111111111111111,\"#46039f\"],[0.2222222222222222,\"#7201a8\"],[0.3333333333333333,\"#9c179e\"],[0.4444444444444444,\"#bd3786\"],[0.5555555555555556,\"#d8576b\"],[0.6666666666666666,\"#ed7953\"],[0.7777777777777778,\"#fb9f3a\"],[0.8888888888888888,\"#fdca26\"],[1.0,\"#f0f921\"]],\"type\":\"surface\"}],\"table\":[{\"cells\":{\"fill\":{\"color\":\"#EBF0F8\"},\"line\":{\"color\":\"white\"}},\"header\":{\"fill\":{\"color\":\"#C8D4E3\"},\"line\":{\"color\":\"white\"}},\"type\":\"table\"}]},\"layout\":{\"annotationdefaults\":{\"arrowcolor\":\"#2a3f5f\",\"arrowhead\":0,\"arrowwidth\":1},\"autotypenumbers\":\"strict\",\"coloraxis\":{\"colorbar\":{\"outlinewidth\":0,\"ticks\":\"\"}},\"colorscale\":{\"diverging\":[[0,\"#8e0152\"],[0.1,\"#c51b7d\"],[0.2,\"#de77ae\"],[0.3,\"#f1b6da\"],[0.4,\"#fde0ef\"],[0.5,\"#f7f7f7\"],[0.6,\"#e6f5d0\"],[0.7,\"#b8e186\"],[0.8,\"#7fbc41\"],[0.9,\"#4d9221\"],[1,\"#276419\"]],\"sequential\":[[0.0,\"#0d0887\"],[0.1111111111111111,\"#46039f\"],[0.2222222222222222,\"#7201a8\"],[0.3333333333333333,\"#9c179e\"],[0.4444444444444444,\"#bd3786\"],[0.5555555555555556,\"#d8576b\"],[0.6666666666666666,\"#ed7953\"],[0.7777777777777778,\"#fb9f3a\"],[0.8888888888888888,\"#fdca26\"],[1.0,\"#f0f921\"]],\"sequentialminus\":[[0.0,\"#0d0887\"],[0.1111111111111111,\"#46039f\"],[0.2222222222222222,\"#7201a8\"],[0.3333333333333333,\"#9c179e\"],[0.4444444444444444,\"#bd3786\"],[0.5555555555555556,\"#d8576b\"],[0.6666666666666666,\"#ed7953\"],[0.7777777777777778,\"#fb9f3a\"],[0.8888888888888888,\"#fdca26\"],[1.0,\"#f0f921\"]]},\"colorway\":[\"#636efa\",\"#EF553B\",\"#00cc96\",\"#ab63fa\",\"#FFA15A\",\"#19d3f3\",\"#FF6692\",\"#B6E880\",\"#FF97FF\",\"#FECB52\"],\"font\":{\"color\":\"#2a3f5f\"},\"geo\":{\"bgcolor\":\"white\",\"lakecolor\":\"white\",\"landcolor\":\"#E5ECF6\",\"showlakes\":true,\"showland\":true,\"subunitcolor\":\"white\"},\"hoverlabel\":{\"align\":\"left\"},\"hovermode\":\"closest\",\"mapbox\":{\"style\":\"light\"},\"paper_bgcolor\":\"white\",\"plot_bgcolor\":\"#E5ECF6\",\"polar\":{\"angularaxis\":{\"gridcolor\":\"white\",\"linecolor\":\"white\",\"ticks\":\"\"},\"bgcolor\":\"#E5ECF6\",\"radialaxis\":{\"gridcolor\":\"white\",\"linecolor\":\"white\",\"ticks\":\"\"}},\"scene\":{\"xaxis\":{\"backgroundcolor\":\"#E5ECF6\",\"gridcolor\":\"white\",\"gridwidth\":2,\"linecolor\":\"white\",\"showbackground\":true,\"ticks\":\"\",\"zerolinecolor\":\"white\"},\"yaxis\":{\"backgroundcolor\":\"#E5ECF6\",\"gridcolor\":\"white\",\"gridwidth\":2,\"linecolor\":\"white\",\"showbackground\":true,\"ticks\":\"\",\"zerolinecolor\":\"white\"},\"zaxis\":{\"backgroundcolor\":\"#E5ECF6\",\"gridcolor\":\"white\",\"gridwidth\":2,\"linecolor\":\"white\",\"showbackground\":true,\"ticks\":\"\",\"zerolinecolor\":\"white\"}},\"shapedefaults\":{\"line\":{\"color\":\"#2a3f5f\"}},\"ternary\":{\"aaxis\":{\"gridcolor\":\"white\",\"linecolor\":\"white\",\"ticks\":\"\"},\"baxis\":{\"gridcolor\":\"white\",\"linecolor\":\"white\",\"ticks\":\"\"},\"bgcolor\":\"#E5ECF6\",\"caxis\":{\"gridcolor\":\"white\",\"linecolor\":\"white\",\"ticks\":\"\"}},\"title\":{\"x\":0.05},\"xaxis\":{\"automargin\":true,\"gridcolor\":\"white\",\"linecolor\":\"white\",\"ticks\":\"\",\"title\":{\"standoff\":15},\"zerolinecolor\":\"white\",\"zerolinewidth\":2},\"yaxis\":{\"automargin\":true,\"gridcolor\":\"white\",\"linecolor\":\"white\",\"ticks\":\"\",\"title\":{\"standoff\":15},\"zerolinecolor\":\"white\",\"zerolinewidth\":2}}},\"xaxis\":{\"anchor\":\"y\",\"domain\":[0.0,1.0],\"title\":{\"text\":\"Munic\\u00edpio\"}},\"yaxis\":{\"anchor\":\"x\",\"domain\":[0.0,1.0],\"title\":{\"text\":\"quartile\"}},\"legend\":{\"tracegroupgap\":0},\"margin\":{\"t\":60},\"boxmode\":\"group\"},                        {\"responsive\": true}                    ).then(function(){\n",
              "                            \n",
              "var gd = document.getElementById('5a638709-6d7f-424b-ad37-09dca1315904');\n",
              "var x = new MutationObserver(function (mutations, observer) {{\n",
              "        var display = window.getComputedStyle(gd).display;\n",
              "        if (!display || display === 'none') {{\n",
              "            console.log([gd, 'removed!']);\n",
              "            Plotly.purge(gd);\n",
              "            observer.disconnect();\n",
              "        }}\n",
              "}});\n",
              "\n",
              "// Listen for the removal of the full notebook cells\n",
              "var notebookContainer = gd.closest('#notebook-container');\n",
              "if (notebookContainer) {{\n",
              "    x.observe(notebookContainer, {childList: true});\n",
              "}}\n",
              "\n",
              "// Listen for the clearing of the current output cell\n",
              "var outputEl = gd.closest('.output');\n",
              "if (outputEl) {{\n",
              "    x.observe(outputEl, {childList: true});\n",
              "}}\n",
              "\n",
              "                        })                };                            </script>        </div>\n",
              "</body>\n",
              "</html>"
            ]
          },
          "metadata": {}
        }
      ]
    },
    {
      "cell_type": "markdown",
      "source": [
        "EXERCÍCIO 2: AMOSTRAGEM \n",
        "> Contexto: considere como população de interesse o vetor de médias por município media_mun [92].\n",
        "\n",
        "> Assim, são conhecidas a Média e a Variância da População.\n",
        "\n",
        "> Crie uma rotina para extrair amostras aleatórias simples usando como parâmetros: variável, fração amostral, e a sinalização (sem/com reposição).\n",
        "\n",
        "> Após cada chamada da rotina devem ser impressos Média e Variância da População e da Amostra selecionada para cada chamada. "
      ],
      "metadata": {
        "id": "zqixIzovoD44"
      }
    },
    {
      "cell_type": "code",
      "source": [
        "def amostra_simples(x,fr,reposicao): # FUNÇÃO PARA CRIAR UMA AMOSTRA ALEATÓRIA\n",
        "  if (reposicao == True):\n",
        "    x_sample = x.sample(frac=fr, replace = True)  # COM REPOSIÇÃO \n",
        "  else:\n",
        "    x_sample = x.sample(frac=fr, replace = False) # SEM REPOSIÇÃO\n",
        "\n",
        "  global media_amostra, var_amostra, media_populacao, var_populacao, tam_amostra, dp_amostra, dp_populacao\n",
        "  media_amostra = x_sample.mean() # MÉDIA DA AMOSTRA\n",
        "  var_amostra = x_sample.var()    # VARIÂNCIA DA AMOSTRA\n",
        "  media_populacao = x.mean()      # MÉDIA DA POPULAÇÃO\n",
        "  var_populacao = x.var()         # VARIÂNCIA DA POPULAÇÃO\n",
        "  dp_amostra = x_sample.std()     # DESVIO PADRÃO DA AMOSTRA\n",
        "  dp_populacao = x.std()          # DESVIO PADRÃO DA POPULAÇÃO\n",
        "  tam_amostra = x_sample.count()  #TAMANHO DA AMOSTRA\n",
        "   \n",
        "  print(\"Média Amostra:\", '%.3f' % media_amostra)\n",
        "  print(\"Média População:\", '%.3f' % media_populacao)\n",
        "  print(\"Variância Amostra:\", '%.3f' % var_amostra)\n",
        "  print(\"Variância População:\", '%.3f' % var_populacao)\n",
        "  print()\n",
        "\n",
        "\n",
        "  \n",
        "amostra_simples(media_mun, 0.1, False) #EXEMPLO 1 (AMOSTRA ALEATÓRIA SIMPLES SEM REPOSIÇÃO DE 10%)\n",
        "amostra_simples(media_mun, 0.8, True) #EXEMPLO 2 (AMOSTRA ALEATÓRIA SIMPLES COM REPOSIÇÃO DE 80%)\n",
        "amostra_simples(media_mun, 1, False) #EXEMPLO 3 (AMOSTRA ALEATÓRIA SIMPLES SEM REPOSIÇÃO DE 100% == POPULAÇÃO)\n"
      ],
      "metadata": {
        "colab": {
          "base_uri": "https://localhost:8080/"
        },
        "id": "DzSHs7ksow9e",
        "outputId": "769b21a3-b12c-48a4-a3ab-cd83b406564d"
      },
      "execution_count": null,
      "outputs": [
        {
          "output_type": "stream",
          "name": "stdout",
          "text": [
            "Média Amostra: 7.338\n",
            "Média População: 7.490\n",
            "Variância Amostra: 0.698\n",
            "Variância População: 1.028\n",
            "\n",
            "Média Amostra: 7.408\n",
            "Média População: 7.490\n",
            "Variância Amostra: 1.129\n",
            "Variância População: 1.028\n",
            "\n",
            "Média Amostra: 7.490\n",
            "Média População: 7.490\n",
            "Variância Amostra: 1.028\n",
            "Variância População: 1.028\n",
            "\n"
          ]
        }
      ]
    },
    {
      "cell_type": "markdown",
      "source": [
        "EXERCÍCIO 3: INTERVALO DE CONFIANÇA\n",
        "> Determine um intervalo de confiança para a média populacional com nível de \n",
        "confiança (alfa = 95%) para uma amostra aleatória simples com reposição selecionada com fração amostral = 20%.\n",
        "\n",
        "> Use a rotina do item anterior para gerar a amostra e achar a média amostral.\n",
        "> Lembre que a variância da População e seu Desvio padrão são conhecidos \n",
        "> Logo … distribuição Normal\n",
        "\n"
      ],
      "metadata": {
        "id": "6YpZflzjAqUG"
      }
    },
    {
      "cell_type": "code",
      "source": [
        "import scipy.stats\n",
        "def intervalo_confianca(nc): # FUNÇÃO PARA CALCULAR INTERVALO DE CONFIANÇA\n",
        "  global z\n",
        "  z = abs(scipy.stats.norm.ppf((1 - nc)/2.)) #CALCULO DO Z\n",
        "\n",
        "  IC1 = media_amostra - z*dp_populacao/np.sqrt(tam_amostra) # LIMITE INFERIOR\n",
        "  IC2 = media_amostra + z*dp_populacao/np.sqrt(tam_amostra) # LIMITE SUPERIOR\n",
        "\n",
        "  print (\"Intervalo de Confiança:\", [IC1,IC2])"
      ],
      "metadata": {
        "id": "nKAzZ0pOLiTF"
      },
      "execution_count": null,
      "outputs": []
    },
    {
      "cell_type": "code",
      "source": [
        "amostra = amostra_simples(media_mun, 0.2, True) # AMOSTRA COM REPOSIÇÃO E FRAÇÃO AMOSTRAL 20%\n",
        "intervalo_confianca(0.95) # INTERVALO DE CONFIANÇA DE 95%"
      ],
      "metadata": {
        "colab": {
          "base_uri": "https://localhost:8080/"
        },
        "id": "dF1tO7piLkvk",
        "outputId": "2b71882a-d2b8-4e0c-e8c2-dbaea8a15877"
      },
      "execution_count": null,
      "outputs": [
        {
          "output_type": "stream",
          "name": "stdout",
          "text": [
            "Média Amostra: 7.665\n",
            "Média População: 7.490\n",
            "Variância Amostra: 0.949\n",
            "Variância População: 1.028\n",
            "\n",
            "Intervalo de Confiança: [7.196684011816916, 8.133441370617335]\n"
          ]
        }
      ]
    },
    {
      "cell_type": "markdown",
      "source": [
        "4 - INFERÊNCIA\n",
        "\n",
        "> Qual o erro de estimativa para a média da população (u) usando a amostra do item anterior? "
      ],
      "metadata": {
        "id": "OZQ0YZSb-ZlV"
      }
    },
    {
      "cell_type": "code",
      "source": [
        "erro = z*dp_populacao/np.sqrt(tam_amostra) # FÓRMULA PARA CÁLCULO DO ERRO UTILIZANDO AMOSTRA ANTERIOR\n",
        "print (\"Erro:\", erro)"
      ],
      "metadata": {
        "colab": {
          "base_uri": "https://localhost:8080/"
        },
        "id": "WMHHjk-U-uf8",
        "outputId": "653458a0-b05e-4433-cf08-fc21b2e26883"
      },
      "execution_count": null,
      "outputs": [
        {
          "output_type": "stream",
          "name": "stdout",
          "text": [
            "Erro: 0.46837867940021\n"
          ]
        }
      ]
    },
    {
      "cell_type": "markdown",
      "source": [
        "> Faça o cálculo do erro de estimação para amostras extraídas com várias frações amostrais diferentes. \n",
        "A teoria se confirma?"
      ],
      "metadata": {
        "id": "uEmkMLhrJlOz"
      }
    },
    {
      "cell_type": "code",
      "source": [
        "amostra_1 = amostra_simples(media_mun, 0.4, True) # AMOSTRA COM REPOSIÇÃO E FRAÇÃO AMOSTRAL DE 40%\n",
        "intervalo_confianca(0.95) # INTERVALO DE CONFIANÇA DE 95%\n",
        "erro = z*dp_populacao/np.sqrt(tam_amostra)\n",
        "print (\"Erro:\", erro)"
      ],
      "metadata": {
        "colab": {
          "base_uri": "https://localhost:8080/"
        },
        "id": "qGmo4uhzK4z6",
        "outputId": "878a0f09-8638-4c6b-b158-05189447c873"
      },
      "execution_count": null,
      "outputs": [
        {
          "output_type": "stream",
          "name": "stdout",
          "text": [
            "Média Amostra: 7.814\n",
            "Média População: 7.490\n",
            "Variância Amostra: 0.840\n",
            "Variância População: 1.028\n",
            "\n",
            "Intervalo de Confiança: [7.487607586308515, 8.140982572527188]\n",
            "Erro: 0.3266874931093366\n"
          ]
        }
      ]
    },
    {
      "cell_type": "code",
      "source": [
        "amostra_2 = amostra_simples(media_mun, 0.6, True) # AMOSTRA COM REPOSIÇÃO E FRAÇÃO AMOSTRAL DE 60%\n",
        "intervalo_confianca(0.95) # INTERVALO DE CONFIANÇA DE 95%\n",
        "erro = z*dp_populacao/np.sqrt(tam_amostra)\n",
        "print (\"Erro:\", erro)"
      ],
      "metadata": {
        "colab": {
          "base_uri": "https://localhost:8080/"
        },
        "id": "jnICYO74NnKt",
        "outputId": "af746837-22ec-40ff-dc88-2f49b34327c1"
      },
      "execution_count": null,
      "outputs": [
        {
          "output_type": "stream",
          "name": "stdout",
          "text": [
            "Média Amostra: 7.670\n",
            "Média População: 7.490\n",
            "Variância Amostra: 1.539\n",
            "Variância População: 1.028\n",
            "\n",
            "Intervalo de Confiança: [7.402443186680902, 7.938341044770928]\n",
            "Erro: 0.2679489290450132\n"
          ]
        }
      ]
    },
    {
      "cell_type": "code",
      "source": [
        "amostra_3 = amostra_simples(media_mun, 0.8, True) # AMOSTRA COM REPOSIÇÃO E FRAÇÃO AMOSTRAL DE 80%\n",
        "intervalo_confianca(0.95) # INTERVALO DE CONFIANÇA DE 95%\n",
        "erro = z*dp_populacao/np.sqrt(tam_amostra)\n",
        "print (\"Erro:\", erro)"
      ],
      "metadata": {
        "colab": {
          "base_uri": "https://localhost:8080/"
        },
        "id": "jQrcYPkeN6WH",
        "outputId": "88e997a6-cbf8-46a4-87a0-533fbc98ed4b"
      },
      "execution_count": null,
      "outputs": [
        {
          "output_type": "stream",
          "name": "stdout",
          "text": [
            "Média Amostra: 7.477\n",
            "Média População: 7.490\n",
            "Variância Amostra: 1.058\n",
            "Variância População: 1.028\n",
            "\n",
            "Intervalo de Confiança: [7.246352119267105, 7.708358002679996]\n",
            "Erro: 0.2310029417064454\n"
          ]
        }
      ]
    },
    {
      "cell_type": "markdown",
      "source": [
        "Considerações Finais:\n",
        "\n",
        "1 - Quanto maior o nível de confiança, maior a amplitude do intervalo de confiança\n",
        "\n",
        "2 - Quanto maior o tamanho da amostra, menor o erro"
      ],
      "metadata": {
        "id": "afHOGGrrOke-"
      }
    }
  ]
}